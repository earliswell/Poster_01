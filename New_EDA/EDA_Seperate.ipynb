{
 "cells": [
  {
   "cell_type": "code",
   "execution_count": 1,
   "metadata": {},
   "outputs": [],
   "source": [
    "import pandas as pd\n",
    "import numpy as np"
   ]
  },
  {
   "cell_type": "code",
   "execution_count": 25,
   "metadata": {},
   "outputs": [
    {
     "name": "stderr",
     "output_type": "stream",
     "text": [
      "/tmp/ipykernel_755273/26678723.py:1: DtypeWarning: Columns (11,39,44,45) have mixed types. Specify dtype option on import or set low_memory=False.\n",
      "  df = pd.read_csv('./data/6110000_서울특별시_07_24_05_P_휴게음식점.csv', encoding='cp949')\n"
     ]
    }
   ],
   "source": [
    "df = pd.read_csv('./data/6110000_서울특별시_07_24_05_P_휴게음식점.csv', encoding='cp949')"
   ]
  },
  {
   "cell_type": "code",
   "execution_count": 26,
   "metadata": {},
   "outputs": [],
   "source": [
    "df.drop('번호', axis=1, inplace=True)"
   ]
  },
  {
   "cell_type": "code",
   "execution_count": 27,
   "metadata": {},
   "outputs": [
    {
     "data": {
      "text/plain": [
       "Index(['개방서비스명', '개방서비스아이디', '개방자치단체코드', '관리번호', '인허가일자', '인허가취소일자',\n",
       "       '영업상태구분코드', '영업상태명', '상세영업상태코드', '상세영업상태명', '폐업일자', '휴업시작일자', '휴업종료일자',\n",
       "       '재개업일자', '소재지전화', '소재지면적', '소재지우편번호', '소재지전체주소', '도로명전체주소', '도로명우편번호',\n",
       "       '사업장명', '최종수정시점', '데이터갱신구분', '데이터갱신일자', '업태구분명', '좌표정보(x)', '좌표정보(y)',\n",
       "       '위생업태명', '남성종사자수', '여성종사자수', '영업장주변구분명', '등급구분명', '급수시설구분명', '총직원수',\n",
       "       '본사직원수', '공장사무직직원수', '공장판매직직원수', '공장생산직직원수', '건물소유구분명', '보증액', '월세액',\n",
       "       '다중이용업소여부', '시설총규모', '전통업소지정번호', '전통업소주된음식', '홈페이지', 'Unnamed: 47'],\n",
       "      dtype='object')"
      ]
     },
     "execution_count": 27,
     "metadata": {},
     "output_type": "execute_result"
    }
   ],
   "source": [
    "df.columns"
   ]
  },
  {
   "cell_type": "code",
   "execution_count": 28,
   "metadata": {},
   "outputs": [
    {
     "name": "stdout",
     "output_type": "stream",
     "text": [
      "<class 'pandas.core.frame.DataFrame'>\n",
      "RangeIndex: 132119 entries, 0 to 132118\n",
      "Data columns (total 47 columns):\n",
      " #   Column       Non-Null Count   Dtype  \n",
      "---  ------       --------------   -----  \n",
      " 0   개방서비스명       132119 non-null  object \n",
      " 1   개방서비스아이디     132119 non-null  object \n",
      " 2   개방자치단체코드     132119 non-null  int64  \n",
      " 3   관리번호         132119 non-null  object \n",
      " 4   인허가일자        132119 non-null  object \n",
      " 5   인허가취소일자      0 non-null       float64\n",
      " 6   영업상태구분코드     132119 non-null  int64  \n",
      " 7   영업상태명        132119 non-null  object \n",
      " 8   상세영업상태코드     132119 non-null  int64  \n",
      " 9   상세영업상태명      132119 non-null  object \n",
      " 10  폐업일자         94129 non-null   object \n",
      " 11  휴업시작일자       0 non-null       float64\n",
      " 12  휴업종료일자       0 non-null       float64\n",
      " 13  재개업일자        0 non-null       float64\n",
      " 14  소재지전화        57378 non-null   object \n",
      " 15  소재지면적        122542 non-null  float64\n",
      " 16  소재지우편번호      131933 non-null  object \n",
      " 17  소재지전체주소      131935 non-null  object \n",
      " 18  도로명전체주소      90589 non-null   object \n",
      " 19  도로명우편번호      89797 non-null   float64\n",
      " 20  사업장명         132119 non-null  object \n",
      " 21  최종수정시점       132119 non-null  object \n",
      " 22  데이터갱신구분      132119 non-null  object \n",
      " 23  데이터갱신일자      132119 non-null  object \n",
      " 24  업태구분명        132119 non-null  object \n",
      " 25  좌표정보(x)      126114 non-null  float64\n",
      " 26  좌표정보(y)      126114 non-null  float64\n",
      " 27  위생업태명        132118 non-null  object \n",
      " 28  남성종사자수       70085 non-null   float64\n",
      " 29  여성종사자수       70336 non-null   float64\n",
      " 30  영업장주변구분명     35836 non-null   object \n",
      " 31  등급구분명        34355 non-null   object \n",
      " 32  급수시설구분명      54206 non-null   object \n",
      " 33  총직원수         34492 non-null   float64\n",
      " 34  본사직원수        34593 non-null   float64\n",
      " 35  공장사무직직원수     34593 non-null   float64\n",
      " 36  공장판매직직원수     34593 non-null   float64\n",
      " 37  공장생산직직원수     34593 non-null   float64\n",
      " 38  건물소유구분명      4 non-null       object \n",
      " 39  보증액          34593 non-null   float64\n",
      " 40  월세액          34593 non-null   float64\n",
      " 41  다중이용업소여부     132118 non-null  object \n",
      " 42  시설총규모        132118 non-null  float64\n",
      " 43  전통업소지정번호     68 non-null      object \n",
      " 44  전통업소주된음식     5 non-null       object \n",
      " 45  홈페이지         0 non-null       float64\n",
      " 46  Unnamed: 47  0 non-null       float64\n",
      "dtypes: float64(20), int64(3), object(24)\n",
      "memory usage: 47.4+ MB\n"
     ]
    }
   ],
   "source": [
    "df.info()"
   ]
  },
  {
   "cell_type": "code",
   "execution_count": 29,
   "metadata": {},
   "outputs": [],
   "source": [
    "df = df[['개방서비스명', '개방서비스아이디', '개방자치단체코드', '관리번호', '인허가일자', '영업상태구분코드', '영업상태명', '상세영업상태코드', '상세영업상태명',\n",
    "         '폐업일자', '휴업시작일자', '휴업종료일자','소재지면적', '소재지우편번호', '소재지전체주소', '도로명전체주소', '도로명우편번호',\n",
    "       '사업장명', '업태구분명', '좌표정보(x)', '좌표정보(y)',\n",
    "       '위생업태명', '보증액', '월세액', '시설총규모']]"
   ]
  },
  {
   "cell_type": "code",
   "execution_count": 30,
   "metadata": {},
   "outputs": [
    {
     "data": {
      "text/plain": [
       "array(['일반조리판매', '커피숍', '유원지', '기타 휴게음식점', '편의점', '패스트푸드', '푸드트럭', '키즈카페',\n",
       "       '철도역구내', '백화점', '아이스크림', '전통찻집', '떡카페', '다방', '과자점', '관광호텔',\n",
       "       '단란주점', '극장', '공항', '호프/통닭', '고속도로', '한식', '기타', '김밥(도시락)', '룸살롱'],\n",
       "      dtype=object)"
      ]
     },
     "execution_count": 30,
     "metadata": {},
     "output_type": "execute_result"
    }
   ],
   "source": [
    "df['업태구분명'].unique()"
   ]
  },
  {
   "cell_type": "code",
   "execution_count": 31,
   "metadata": {},
   "outputs": [],
   "source": [
    "df_starbucks = df[df['사업장명'].str.startswith('스타벅스')]"
   ]
  },
  {
   "cell_type": "code",
   "execution_count": 32,
   "metadata": {},
   "outputs": [],
   "source": [
    "df_cafes = df[df['업태구분명'].isin(['커피숍'])]"
   ]
  },
  {
   "cell_type": "code",
   "execution_count": 33,
   "metadata": {},
   "outputs": [],
   "source": [
    "df_cafes = df_cafes[~(df_cafes['사업장명'].str.startswith('스타벅스'))]"
   ]
  },
  {
   "cell_type": "code",
   "execution_count": 34,
   "metadata": {},
   "outputs": [
    {
     "data": {
      "text/html": [
       "<div>\n",
       "<style scoped>\n",
       "    .dataframe tbody tr th:only-of-type {\n",
       "        vertical-align: middle;\n",
       "    }\n",
       "\n",
       "    .dataframe tbody tr th {\n",
       "        vertical-align: top;\n",
       "    }\n",
       "\n",
       "    .dataframe thead th {\n",
       "        text-align: right;\n",
       "    }\n",
       "</style>\n",
       "<table border=\"1\" class=\"dataframe\">\n",
       "  <thead>\n",
       "    <tr style=\"text-align: right;\">\n",
       "      <th></th>\n",
       "      <th>개방서비스명</th>\n",
       "      <th>개방서비스아이디</th>\n",
       "      <th>개방자치단체코드</th>\n",
       "      <th>관리번호</th>\n",
       "      <th>인허가일자</th>\n",
       "      <th>영업상태구분코드</th>\n",
       "      <th>영업상태명</th>\n",
       "      <th>상세영업상태코드</th>\n",
       "      <th>상세영업상태명</th>\n",
       "      <th>폐업일자</th>\n",
       "      <th>...</th>\n",
       "      <th>도로명전체주소</th>\n",
       "      <th>도로명우편번호</th>\n",
       "      <th>사업장명</th>\n",
       "      <th>업태구분명</th>\n",
       "      <th>좌표정보(x)</th>\n",
       "      <th>좌표정보(y)</th>\n",
       "      <th>위생업태명</th>\n",
       "      <th>보증액</th>\n",
       "      <th>월세액</th>\n",
       "      <th>시설총규모</th>\n",
       "    </tr>\n",
       "  </thead>\n",
       "  <tbody>\n",
       "    <tr>\n",
       "      <th>1</th>\n",
       "      <td>휴게음식점</td>\n",
       "      <td>07_24_05_P</td>\n",
       "      <td>3210000</td>\n",
       "      <td>3210000-104-2020-00212</td>\n",
       "      <td>2020-08-03</td>\n",
       "      <td>1</td>\n",
       "      <td>영업/정상</td>\n",
       "      <td>1</td>\n",
       "      <td>영업</td>\n",
       "      <td>NaN</td>\n",
       "      <td>...</td>\n",
       "      <td>서울특별시 서초구 방배천로2안길 49, 1층 (방배동)</td>\n",
       "      <td>6692.0</td>\n",
       "      <td>카페it수다</td>\n",
       "      <td>커피숍</td>\n",
       "      <td>198499.258221</td>\n",
       "      <td>441882.141012</td>\n",
       "      <td>커피숍</td>\n",
       "      <td>NaN</td>\n",
       "      <td>NaN</td>\n",
       "      <td>33.00</td>\n",
       "    </tr>\n",
       "    <tr>\n",
       "      <th>5</th>\n",
       "      <td>휴게음식점</td>\n",
       "      <td>07_24_05_P</td>\n",
       "      <td>3130000</td>\n",
       "      <td>3130000-104-2017-00132</td>\n",
       "      <td>2017-04-14</td>\n",
       "      <td>1</td>\n",
       "      <td>영업/정상</td>\n",
       "      <td>1</td>\n",
       "      <td>영업</td>\n",
       "      <td>NaN</td>\n",
       "      <td>...</td>\n",
       "      <td>서울특별시 마포구 월드컵북로 396, 지하1층 B1087호 (상암동)</td>\n",
       "      <td>3925.0</td>\n",
       "      <td>셀렉토커피 상암누리꿈스퀘어점</td>\n",
       "      <td>커피숍</td>\n",
       "      <td>190250.875092</td>\n",
       "      <td>453017.867203</td>\n",
       "      <td>커피숍</td>\n",
       "      <td>NaN</td>\n",
       "      <td>NaN</td>\n",
       "      <td>43.76</td>\n",
       "    </tr>\n",
       "    <tr>\n",
       "      <th>7</th>\n",
       "      <td>휴게음식점</td>\n",
       "      <td>07_24_05_P</td>\n",
       "      <td>3130000</td>\n",
       "      <td>3130000-104-2017-00124</td>\n",
       "      <td>2017-04-10</td>\n",
       "      <td>1</td>\n",
       "      <td>영업/정상</td>\n",
       "      <td>1</td>\n",
       "      <td>영업</td>\n",
       "      <td>NaN</td>\n",
       "      <td>...</td>\n",
       "      <td>서울특별시 마포구 월드컵로3길 14 (합정동, 마포한강2차푸르지오상업시설 120호)</td>\n",
       "      <td>4024.0</td>\n",
       "      <td>굿애프터눈 합정점</td>\n",
       "      <td>커피숍</td>\n",
       "      <td>192142.271363</td>\n",
       "      <td>449868.964586</td>\n",
       "      <td>커피숍</td>\n",
       "      <td>0.0</td>\n",
       "      <td>0.0</td>\n",
       "      <td>50.42</td>\n",
       "    </tr>\n",
       "    <tr>\n",
       "      <th>8</th>\n",
       "      <td>휴게음식점</td>\n",
       "      <td>07_24_05_P</td>\n",
       "      <td>3130000</td>\n",
       "      <td>3130000-104-2017-00127</td>\n",
       "      <td>2017-04-12</td>\n",
       "      <td>1</td>\n",
       "      <td>영업/정상</td>\n",
       "      <td>1</td>\n",
       "      <td>영업</td>\n",
       "      <td>NaN</td>\n",
       "      <td>...</td>\n",
       "      <td>서울특별시 마포구 동교로41길 14 (연남동, 1층일부)</td>\n",
       "      <td>3983.0</td>\n",
       "      <td>아이엠푸르트 연남동과일가게</td>\n",
       "      <td>커피숍</td>\n",
       "      <td>193216.406716</td>\n",
       "      <td>451203.602122</td>\n",
       "      <td>커피숍</td>\n",
       "      <td>NaN</td>\n",
       "      <td>NaN</td>\n",
       "      <td>20.00</td>\n",
       "    </tr>\n",
       "    <tr>\n",
       "      <th>9</th>\n",
       "      <td>휴게음식점</td>\n",
       "      <td>07_24_05_P</td>\n",
       "      <td>3130000</td>\n",
       "      <td>3130000-104-2017-00272</td>\n",
       "      <td>2017-07-21</td>\n",
       "      <td>1</td>\n",
       "      <td>영업/정상</td>\n",
       "      <td>1</td>\n",
       "      <td>영업</td>\n",
       "      <td>NaN</td>\n",
       "      <td>...</td>\n",
       "      <td>서울특별시 마포구 양화로 161 (동교동, 현대카드 현대캐피탈 홍대사옥1층일부)</td>\n",
       "      <td>3995.0</td>\n",
       "      <td>백미당홍대점</td>\n",
       "      <td>커피숍</td>\n",
       "      <td>193152.623835</td>\n",
       "      <td>450523.471240</td>\n",
       "      <td>커피숍</td>\n",
       "      <td>NaN</td>\n",
       "      <td>NaN</td>\n",
       "      <td>36.30</td>\n",
       "    </tr>\n",
       "  </tbody>\n",
       "</table>\n",
       "<p>5 rows × 25 columns</p>\n",
       "</div>"
      ],
      "text/plain": [
       "  개방서비스명    개방서비스아이디  개방자치단체코드                    관리번호       인허가일자  영업상태구분코드  \\\n",
       "1  휴게음식점  07_24_05_P   3210000  3210000-104-2020-00212  2020-08-03         1   \n",
       "5  휴게음식점  07_24_05_P   3130000  3130000-104-2017-00132  2017-04-14         1   \n",
       "7  휴게음식점  07_24_05_P   3130000  3130000-104-2017-00124  2017-04-10         1   \n",
       "8  휴게음식점  07_24_05_P   3130000  3130000-104-2017-00127  2017-04-12         1   \n",
       "9  휴게음식점  07_24_05_P   3130000  3130000-104-2017-00272  2017-07-21         1   \n",
       "\n",
       "   영업상태명  상세영업상태코드 상세영업상태명 폐업일자  ...  \\\n",
       "1  영업/정상         1      영업  NaN  ...   \n",
       "5  영업/정상         1      영업  NaN  ...   \n",
       "7  영업/정상         1      영업  NaN  ...   \n",
       "8  영업/정상         1      영업  NaN  ...   \n",
       "9  영업/정상         1      영업  NaN  ...   \n",
       "\n",
       "                                          도로명전체주소  도로명우편번호             사업장명  \\\n",
       "1                  서울특별시 서초구 방배천로2안길 49, 1층 (방배동)   6692.0           카페it수다   \n",
       "5          서울특별시 마포구 월드컵북로 396, 지하1층 B1087호 (상암동)   3925.0  셀렉토커피 상암누리꿈스퀘어점   \n",
       "7  서울특별시 마포구 월드컵로3길 14 (합정동, 마포한강2차푸르지오상업시설 120호)   4024.0        굿애프터눈 합정점   \n",
       "8                 서울특별시 마포구 동교로41길 14 (연남동, 1층일부)   3983.0   아이엠푸르트 연남동과일가게   \n",
       "9    서울특별시 마포구 양화로 161 (동교동, 현대카드 현대캐피탈 홍대사옥1층일부)   3995.0           백미당홍대점   \n",
       "\n",
       "  업태구분명        좌표정보(x)        좌표정보(y)  위생업태명  보증액  월세액  시설총규모  \n",
       "1   커피숍  198499.258221  441882.141012    커피숍  NaN  NaN  33.00  \n",
       "5   커피숍  190250.875092  453017.867203    커피숍  NaN  NaN  43.76  \n",
       "7   커피숍  192142.271363  449868.964586    커피숍  0.0  0.0  50.42  \n",
       "8   커피숍  193216.406716  451203.602122    커피숍  NaN  NaN  20.00  \n",
       "9   커피숍  193152.623835  450523.471240    커피숍  NaN  NaN  36.30  \n",
       "\n",
       "[5 rows x 25 columns]"
      ]
     },
     "execution_count": 34,
     "metadata": {},
     "output_type": "execute_result"
    }
   ],
   "source": [
    "df_cafes.head()"
   ]
  },
  {
   "cell_type": "code",
   "execution_count": 36,
   "metadata": {},
   "outputs": [],
   "source": [
    "df_cafes = df_cafes.sort_values(ascending=True, by='인허가일자').reset_index(drop=True)\n",
    "df_starbucks = df_starbucks.sort_values(ascending=True, by='인허가일자').reset_index(drop=True)"
   ]
  },
  {
   "cell_type": "code",
   "execution_count": 37,
   "metadata": {},
   "outputs": [],
   "source": [
    "df_starbucks.drop(['보증액', '월세액', '개방서비스아이디'], axis=1, inplace=True)\n",
    "df_cafes.drop(['보증액', '월세액', '개방서비스아이디'], axis=1, inplace=True)"
   ]
  },
  {
   "cell_type": "code",
   "execution_count": 38,
   "metadata": {},
   "outputs": [],
   "source": [
    "df_starbucks.drop(['개방서비스명'], axis=1, inplace=True)\n",
    "df_cafes.drop(['개방서비스명'], axis=1, inplace=True)"
   ]
  },
  {
   "cell_type": "code",
   "execution_count": 39,
   "metadata": {},
   "outputs": [],
   "source": [
    "df_starbucks.to_csv('./data/starbucks.csv', index=False)\n",
    "df_cafes.to_csv('./data/cafe.csv', index=False)"
   ]
  }
 ],
 "metadata": {
  "kernelspec": {
   "display_name": "InHeon",
   "language": "python",
   "name": "python3"
  },
  "language_info": {
   "codemirror_mode": {
    "name": "ipython",
    "version": 3
   },
   "file_extension": ".py",
   "mimetype": "text/x-python",
   "name": "python",
   "nbconvert_exporter": "python",
   "pygments_lexer": "ipython3",
   "version": "3.11.9"
  }
 },
 "nbformat": 4,
 "nbformat_minor": 2
}
