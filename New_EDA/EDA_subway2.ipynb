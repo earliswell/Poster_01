{
 "cells": [
  {
   "cell_type": "code",
   "execution_count": 2,
   "metadata": {},
   "outputs": [],
   "source": [
    "import pandas as pd\n",
    "import numpy as np"
   ]
  },
  {
   "cell_type": "code",
   "execution_count": 4,
   "metadata": {},
   "outputs": [
    {
     "data": {
      "text/html": [
       "<div>\n",
       "<style scoped>\n",
       "    .dataframe tbody tr th:only-of-type {\n",
       "        vertical-align: middle;\n",
       "    }\n",
       "\n",
       "    .dataframe tbody tr th {\n",
       "        vertical-align: top;\n",
       "    }\n",
       "\n",
       "    .dataframe thead th {\n",
       "        text-align: right;\n",
       "    }\n",
       "</style>\n",
       "<table border=\"1\" class=\"dataframe\">\n",
       "  <thead>\n",
       "    <tr style=\"text-align: right;\">\n",
       "      <th></th>\n",
       "      <th>철도운영기관명</th>\n",
       "      <th>선명</th>\n",
       "      <th>역명</th>\n",
       "      <th>출구번호</th>\n",
       "      <th>출구별 주요시설명</th>\n",
       "      <th>역번호</th>\n",
       "      <th>역사도로명주소_y</th>\n",
       "    </tr>\n",
       "  </thead>\n",
       "  <tbody>\n",
       "    <tr>\n",
       "      <th>0</th>\n",
       "      <td>서울교통공사</td>\n",
       "      <td>1호선</td>\n",
       "      <td>동대문</td>\n",
       "      <td>1</td>\n",
       "      <td>흥인지문 공원</td>\n",
       "      <td>0128</td>\n",
       "      <td>서울특별시 종로구 종로 지하302(창신동)</td>\n",
       "    </tr>\n",
       "    <tr>\n",
       "      <th>1</th>\n",
       "      <td>서울교통공사</td>\n",
       "      <td>1호선</td>\n",
       "      <td>동대문</td>\n",
       "      <td>2</td>\n",
       "      <td>창신동·숭인동</td>\n",
       "      <td>0128</td>\n",
       "      <td>서울특별시 종로구 종로 지하302(창신동)</td>\n",
       "    </tr>\n",
       "    <tr>\n",
       "      <th>2</th>\n",
       "      <td>서울교통공사</td>\n",
       "      <td>1호선</td>\n",
       "      <td>동대문</td>\n",
       "      <td>3</td>\n",
       "      <td>창신동·숭인동</td>\n",
       "      <td>0128</td>\n",
       "      <td>서울특별시 종로구 종로 지하302(창신동)</td>\n",
       "    </tr>\n",
       "    <tr>\n",
       "      <th>3</th>\n",
       "      <td>서울교통공사</td>\n",
       "      <td>1호선</td>\n",
       "      <td>동대문</td>\n",
       "      <td>4</td>\n",
       "      <td>신설동 방면</td>\n",
       "      <td>0128</td>\n",
       "      <td>서울특별시 종로구 종로 지하302(창신동)</td>\n",
       "    </tr>\n",
       "    <tr>\n",
       "      <th>4</th>\n",
       "      <td>서울교통공사</td>\n",
       "      <td>1호선</td>\n",
       "      <td>동대문</td>\n",
       "      <td>5</td>\n",
       "      <td>청계천 방면</td>\n",
       "      <td>0128</td>\n",
       "      <td>서울특별시 종로구 종로 지하302(창신동)</td>\n",
       "    </tr>\n",
       "  </tbody>\n",
       "</table>\n",
       "</div>"
      ],
      "text/plain": [
       "  철도운영기관명   선명   역명 출구번호 출구별 주요시설명   역번호                역사도로명주소_y\n",
       "0  서울교통공사  1호선  동대문    1   흥인지문 공원  0128  서울특별시 종로구 종로 지하302(창신동)\n",
       "1  서울교통공사  1호선  동대문    2   창신동·숭인동  0128  서울특별시 종로구 종로 지하302(창신동)\n",
       "2  서울교통공사  1호선  동대문    3   창신동·숭인동  0128  서울특별시 종로구 종로 지하302(창신동)\n",
       "3  서울교통공사  1호선  동대문    4    신설동 방면  0128  서울특별시 종로구 종로 지하302(창신동)\n",
       "4  서울교통공사  1호선  동대문    5    청계천 방면  0128  서울특별시 종로구 종로 지하302(창신동)"
      ]
     },
     "execution_count": 4,
     "metadata": {},
     "output_type": "execute_result"
    }
   ],
   "source": [
    "df = pd.read_excel('./data/subway.xlsx')\n",
    "df.head()"
   ]
  },
  {
   "cell_type": "code",
   "execution_count": 5,
   "metadata": {},
   "outputs": [
    {
     "data": {
      "text/plain": [
       "(1828, 7)"
      ]
     },
     "execution_count": 5,
     "metadata": {},
     "output_type": "execute_result"
    }
   ],
   "source": [
    "df.shape"
   ]
  },
  {
   "cell_type": "code",
   "execution_count": 7,
   "metadata": {},
   "outputs": [
    {
     "data": {
      "text/plain": [
       "array(['서울교통공사', '서울9호선', '한국철도공사', '경기도 신분당선'], dtype=object)"
      ]
     },
     "execution_count": 7,
     "metadata": {},
     "output_type": "execute_result"
    }
   ],
   "source": [
    "df['철도운영기관명'].unique()"
   ]
  },
  {
   "cell_type": "code",
   "execution_count": 52,
   "metadata": {},
   "outputs": [
    {
     "name": "stderr",
     "output_type": "stream",
     "text": [
      "/home/dabs/.conda/envs/InHeon/lib/python3.11/site-packages/openpyxl/worksheet/_reader.py:329: UserWarning: Data Validation extension is not supported and will be removed\n",
      "  warn(msg)\n",
      "/home/dabs/.conda/envs/InHeon/lib/python3.11/site-packages/openpyxl/worksheet/_reader.py:329: UserWarning: Data Validation extension is not supported and will be removed\n",
      "  warn(msg)\n"
     ]
    }
   ],
   "source": [
    "df_seoul = pd.read_excel('./data/seoul_sub.xlsx')\n",
    "df_9 = pd.read_excel('./data/nine_sub.xlsx')\n",
    "df_new = pd.read_excel('./data/new_bundang.xlsx')"
   ]
  },
  {
   "cell_type": "code",
   "execution_count": 53,
   "metadata": {},
   "outputs": [
    {
     "data": {
      "text/plain": [
       "Index(['No', '철도운영기관명', '운영노선', '역 종류', '역 번호', '역명(한글)', '역명(영어)', '역명(로마자)',\n",
       "       '역명(일본어)', '역명(중국어간체)', '역명(중국어번체)', '역명(부역명)', '환승역 여부', '환승노선명',\n",
       "       '유실물 취급여부', '안전발판 유무', '스크린도어 설치유무', '승강장 연결여부', '승강장 유형', '역 위치(경도)',\n",
       "       '역 위치(위도)', '역 주소(지번주소)', '역 주소(도로명 주소)', '역사 전화번호', '신설일자', '폐지일자',\n",
       "       '상행거리', '하행거리', '데이터 기준일자', '참고사항'],\n",
       "      dtype='object')"
      ]
     },
     "execution_count": 53,
     "metadata": {},
     "output_type": "execute_result"
    }
   ],
   "source": [
    "df_seoul.columns"
   ]
  },
  {
   "cell_type": "code",
   "execution_count": 54,
   "metadata": {},
   "outputs": [],
   "source": [
    "df_seoul = df_seoul[['철도운영기관명', '운영노선', '역 번호', '역명(한글)', '역 위치(경도)','역 위치(위도)', \n",
    "                     '역 주소(지번주소)', '역 주소(도로명 주소)', '신설일자', '데이터 기준일자']]"
   ]
  },
  {
   "cell_type": "code",
   "execution_count": 55,
   "metadata": {},
   "outputs": [
    {
     "data": {
      "text/html": [
       "<div>\n",
       "<style scoped>\n",
       "    .dataframe tbody tr th:only-of-type {\n",
       "        vertical-align: middle;\n",
       "    }\n",
       "\n",
       "    .dataframe tbody tr th {\n",
       "        vertical-align: top;\n",
       "    }\n",
       "\n",
       "    .dataframe thead th {\n",
       "        text-align: right;\n",
       "    }\n",
       "</style>\n",
       "<table border=\"1\" class=\"dataframe\">\n",
       "  <thead>\n",
       "    <tr style=\"text-align: right;\">\n",
       "      <th></th>\n",
       "      <th>철도운영기관명</th>\n",
       "      <th>운영노선</th>\n",
       "      <th>역 번호</th>\n",
       "      <th>역명(한글)</th>\n",
       "      <th>역 위치(경도)</th>\n",
       "      <th>역 위치(위도)</th>\n",
       "      <th>역 주소(지번주소)</th>\n",
       "      <th>역 주소(도로명 주소)</th>\n",
       "      <th>신설일자</th>\n",
       "      <th>데이터 기준일자</th>\n",
       "    </tr>\n",
       "  </thead>\n",
       "  <tbody>\n",
       "    <tr>\n",
       "      <th>0</th>\n",
       "      <td>서울교통공사</td>\n",
       "      <td>1호선</td>\n",
       "      <td>150</td>\n",
       "      <td>서울역</td>\n",
       "      <td>126.972533</td>\n",
       "      <td>37.553150</td>\n",
       "      <td>서울특별시 중구 남대문로5가 73-6 서울역(1호선)</td>\n",
       "      <td>서울특별시 중구 세종대로 지하2(남대문로 5가)</td>\n",
       "      <td>19740815</td>\n",
       "      <td>20240514</td>\n",
       "    </tr>\n",
       "    <tr>\n",
       "      <th>1</th>\n",
       "      <td>서울교통공사</td>\n",
       "      <td>1호선</td>\n",
       "      <td>151</td>\n",
       "      <td>시청</td>\n",
       "      <td>126.975407</td>\n",
       "      <td>37.563590</td>\n",
       "      <td>서울특별시 중구 정동 5-5 시청역(1호선)</td>\n",
       "      <td>서울특별시 중구 세종대로 지하101(정동)</td>\n",
       "      <td>19740815</td>\n",
       "      <td>20240514</td>\n",
       "    </tr>\n",
       "    <tr>\n",
       "      <th>2</th>\n",
       "      <td>서울교통공사</td>\n",
       "      <td>1호선</td>\n",
       "      <td>152</td>\n",
       "      <td>종각</td>\n",
       "      <td>126.983116</td>\n",
       "      <td>37.570203</td>\n",
       "      <td>서울특별시 종로구 종로1가 54 종각역(1호선)</td>\n",
       "      <td>서울특별시 종로구 종로 지하55(종로1가)</td>\n",
       "      <td>19740815</td>\n",
       "      <td>20240514</td>\n",
       "    </tr>\n",
       "    <tr>\n",
       "      <th>3</th>\n",
       "      <td>서울교통공사</td>\n",
       "      <td>1호선</td>\n",
       "      <td>153</td>\n",
       "      <td>종로3가</td>\n",
       "      <td>126.992095</td>\n",
       "      <td>37.570429</td>\n",
       "      <td>서울특별시 종로구 종로3가 10-5 종로3가역(1호선)</td>\n",
       "      <td>서울특별시 종로구 종로 지하129(종로3가)</td>\n",
       "      <td>19740815</td>\n",
       "      <td>20240514</td>\n",
       "    </tr>\n",
       "    <tr>\n",
       "      <th>4</th>\n",
       "      <td>서울교통공사</td>\n",
       "      <td>1호선</td>\n",
       "      <td>154</td>\n",
       "      <td>종로5가</td>\n",
       "      <td>127.001900</td>\n",
       "      <td>37.570971</td>\n",
       "      <td>서울특별시 종로구 종로5가 82-1 종로5가역(1호선)</td>\n",
       "      <td>서울특별시 종로구 종로 지하216(종로5가)</td>\n",
       "      <td>19740815</td>\n",
       "      <td>20240514</td>\n",
       "    </tr>\n",
       "  </tbody>\n",
       "</table>\n",
       "</div>"
      ],
      "text/plain": [
       "  철도운영기관명 운영노선  역 번호 역명(한글)    역 위치(경도)   역 위치(위도)  \\\n",
       "0  서울교통공사  1호선   150    서울역  126.972533  37.553150   \n",
       "1  서울교통공사  1호선   151     시청  126.975407  37.563590   \n",
       "2  서울교통공사  1호선   152     종각  126.983116  37.570203   \n",
       "3  서울교통공사  1호선   153   종로3가  126.992095  37.570429   \n",
       "4  서울교통공사  1호선   154   종로5가  127.001900  37.570971   \n",
       "\n",
       "                       역 주소(지번주소)                역 주소(도로명 주소)      신설일자  \\\n",
       "0   서울특별시 중구 남대문로5가 73-6 서울역(1호선)  서울특별시 중구 세종대로 지하2(남대문로 5가)  19740815   \n",
       "1        서울특별시 중구 정동 5-5 시청역(1호선)     서울특별시 중구 세종대로 지하101(정동)  19740815   \n",
       "2      서울특별시 종로구 종로1가 54 종각역(1호선)     서울특별시 종로구 종로 지하55(종로1가)  19740815   \n",
       "3  서울특별시 종로구 종로3가 10-5 종로3가역(1호선)    서울특별시 종로구 종로 지하129(종로3가)  19740815   \n",
       "4  서울특별시 종로구 종로5가 82-1 종로5가역(1호선)    서울특별시 종로구 종로 지하216(종로5가)  19740815   \n",
       "\n",
       "   데이터 기준일자  \n",
       "0  20240514  \n",
       "1  20240514  \n",
       "2  20240514  \n",
       "3  20240514  \n",
       "4  20240514  "
      ]
     },
     "execution_count": 55,
     "metadata": {},
     "output_type": "execute_result"
    }
   ],
   "source": [
    "df_seoul.head()"
   ]
  },
  {
   "cell_type": "code",
   "execution_count": 56,
   "metadata": {},
   "outputs": [],
   "source": [
    "df_9 = df_9[['철도운영기관명', '운영노선', '역 번호', '역명(한글)', '역 위치(경도)','역 위치(위도)', \n",
    "             '역 주소(지번주소)', '역 주소(도로명 주소)', '신설일자', '데이터 기준일자']]"
   ]
  },
  {
   "cell_type": "code",
   "execution_count": 59,
   "metadata": {},
   "outputs": [
    {
     "data": {
      "text/html": [
       "<div>\n",
       "<style scoped>\n",
       "    .dataframe tbody tr th:only-of-type {\n",
       "        vertical-align: middle;\n",
       "    }\n",
       "\n",
       "    .dataframe tbody tr th {\n",
       "        vertical-align: top;\n",
       "    }\n",
       "\n",
       "    .dataframe thead th {\n",
       "        text-align: right;\n",
       "    }\n",
       "</style>\n",
       "<table border=\"1\" class=\"dataframe\">\n",
       "  <thead>\n",
       "    <tr style=\"text-align: right;\">\n",
       "      <th></th>\n",
       "      <th>철도운영기관명</th>\n",
       "      <th>운영노선</th>\n",
       "      <th>역 번호</th>\n",
       "      <th>역명(한글)</th>\n",
       "      <th>역 위치(경도)</th>\n",
       "      <th>역 위치(위도)</th>\n",
       "      <th>역 주소(지번주소)</th>\n",
       "      <th>역 주소(도로명 주소)</th>\n",
       "      <th>신설일자</th>\n",
       "      <th>데이터 기준일자</th>\n",
       "    </tr>\n",
       "  </thead>\n",
       "  <tbody>\n",
       "    <tr>\n",
       "      <th>0</th>\n",
       "      <td>서울9호선</td>\n",
       "      <td>9호선</td>\n",
       "      <td>901</td>\n",
       "      <td>개화역</td>\n",
       "      <td>NaN</td>\n",
       "      <td>NaN</td>\n",
       "      <td>NaN</td>\n",
       "      <td>서울시 강서구 개화동로8길 19</td>\n",
       "      <td>20090724</td>\n",
       "      <td>20240513</td>\n",
       "    </tr>\n",
       "    <tr>\n",
       "      <th>1</th>\n",
       "      <td>서울9호선</td>\n",
       "      <td>9호선</td>\n",
       "      <td>902</td>\n",
       "      <td>김포공항</td>\n",
       "      <td>NaN</td>\n",
       "      <td>NaN</td>\n",
       "      <td>NaN</td>\n",
       "      <td>서울시 강서구 하늘길 지하77</td>\n",
       "      <td>20090724</td>\n",
       "      <td>20240513</td>\n",
       "    </tr>\n",
       "    <tr>\n",
       "      <th>2</th>\n",
       "      <td>서울9호선</td>\n",
       "      <td>9호선</td>\n",
       "      <td>903</td>\n",
       "      <td>공항시장</td>\n",
       "      <td>NaN</td>\n",
       "      <td>NaN</td>\n",
       "      <td>NaN</td>\n",
       "      <td>서울시 강서구 방화동로 지하30</td>\n",
       "      <td>20090724</td>\n",
       "      <td>20240513</td>\n",
       "    </tr>\n",
       "    <tr>\n",
       "      <th>3</th>\n",
       "      <td>서울9호선</td>\n",
       "      <td>9호선</td>\n",
       "      <td>904</td>\n",
       "      <td>신방화역</td>\n",
       "      <td>NaN</td>\n",
       "      <td>NaN</td>\n",
       "      <td>NaN</td>\n",
       "      <td>서울특별시 강서구 방화대로 301</td>\n",
       "      <td>20090724</td>\n",
       "      <td>20240513</td>\n",
       "    </tr>\n",
       "    <tr>\n",
       "      <th>4</th>\n",
       "      <td>서울9호선</td>\n",
       "      <td>9호선</td>\n",
       "      <td>905</td>\n",
       "      <td>마곡나루</td>\n",
       "      <td>NaN</td>\n",
       "      <td>NaN</td>\n",
       "      <td>NaN</td>\n",
       "      <td>서울시 강서구 마곡중앙5로 지하2</td>\n",
       "      <td>20140524</td>\n",
       "      <td>20240513</td>\n",
       "    </tr>\n",
       "  </tbody>\n",
       "</table>\n",
       "</div>"
      ],
      "text/plain": [
       "  철도운영기관명 운영노선  역 번호 역명(한글)  역 위치(경도)  역 위치(위도)  역 주소(지번주소)  \\\n",
       "0   서울9호선  9호선   901    개화역       NaN       NaN         NaN   \n",
       "1   서울9호선  9호선   902   김포공항       NaN       NaN         NaN   \n",
       "2   서울9호선  9호선   903   공항시장       NaN       NaN         NaN   \n",
       "3   서울9호선  9호선   904   신방화역       NaN       NaN         NaN   \n",
       "4   서울9호선  9호선   905   마곡나루       NaN       NaN         NaN   \n",
       "\n",
       "         역 주소(도로명 주소)      신설일자  데이터 기준일자  \n",
       "0   서울시 강서구 개화동로8길 19  20090724  20240513  \n",
       "1    서울시 강서구 하늘길 지하77  20090724  20240513  \n",
       "2   서울시 강서구 방화동로 지하30  20090724  20240513  \n",
       "3  서울특별시 강서구 방화대로 301  20090724  20240513  \n",
       "4  서울시 강서구 마곡중앙5로 지하2  20140524  20240513  "
      ]
     },
     "execution_count": 59,
     "metadata": {},
     "output_type": "execute_result"
    }
   ],
   "source": [
    "df_9.head()"
   ]
  },
  {
   "cell_type": "code",
   "execution_count": 60,
   "metadata": {},
   "outputs": [
    {
     "data": {
      "text/html": [
       "<div>\n",
       "<style scoped>\n",
       "    .dataframe tbody tr th:only-of-type {\n",
       "        vertical-align: middle;\n",
       "    }\n",
       "\n",
       "    .dataframe tbody tr th {\n",
       "        vertical-align: top;\n",
       "    }\n",
       "\n",
       "    .dataframe thead th {\n",
       "        text-align: right;\n",
       "    }\n",
       "</style>\n",
       "<table border=\"1\" class=\"dataframe\">\n",
       "  <thead>\n",
       "    <tr style=\"text-align: right;\">\n",
       "      <th></th>\n",
       "      <th>철도운영기관명</th>\n",
       "      <th>운영노선</th>\n",
       "      <th>역 번호</th>\n",
       "      <th>역명(한글)</th>\n",
       "      <th>역 위치(경도)</th>\n",
       "      <th>역 위치(위도)</th>\n",
       "      <th>역 주소(지번주소)</th>\n",
       "      <th>역 주소(도로명 주소)</th>\n",
       "      <th>신설일자</th>\n",
       "      <th>데이터 기준일자</th>\n",
       "    </tr>\n",
       "  </thead>\n",
       "  <tbody>\n",
       "    <tr>\n",
       "      <th>0</th>\n",
       "      <td>신분당선</td>\n",
       "      <td>신분당선</td>\n",
       "      <td>4304</td>\n",
       "      <td>신사역</td>\n",
       "      <td>37.516287</td>\n",
       "      <td>127.020023</td>\n",
       "      <td>서울시 강남구 신사동 667</td>\n",
       "      <td>서울시 강남구 도산대로 102</td>\n",
       "      <td>20220528</td>\n",
       "      <td>20240509</td>\n",
       "    </tr>\n",
       "    <tr>\n",
       "      <th>1</th>\n",
       "      <td>신분당선</td>\n",
       "      <td>신분당선</td>\n",
       "      <td>4305</td>\n",
       "      <td>논현역</td>\n",
       "      <td>37.509647</td>\n",
       "      <td>127.022055</td>\n",
       "      <td>서울시 강남구 논현동 280번지</td>\n",
       "      <td>서울시 강남구 학동로 지하 102</td>\n",
       "      <td>20220528</td>\n",
       "      <td>20240509</td>\n",
       "    </tr>\n",
       "    <tr>\n",
       "      <th>2</th>\n",
       "      <td>신분당선</td>\n",
       "      <td>신분당선</td>\n",
       "      <td>4306</td>\n",
       "      <td>신논현역</td>\n",
       "      <td>37.504063</td>\n",
       "      <td>127.024407</td>\n",
       "      <td>서울시 강남구 역삼동 800</td>\n",
       "      <td>서울시 강남구 봉은사로 지하 102</td>\n",
       "      <td>20220528</td>\n",
       "      <td>20240509</td>\n",
       "    </tr>\n",
       "    <tr>\n",
       "      <th>3</th>\n",
       "      <td>신분당선</td>\n",
       "      <td>신분당선</td>\n",
       "      <td>4307</td>\n",
       "      <td>강남역</td>\n",
       "      <td>37.496068</td>\n",
       "      <td>127.028506</td>\n",
       "      <td>서울특별시 강남구 역삼동 858 강남역</td>\n",
       "      <td>서울특별시 강남구 강남대로 지하396</td>\n",
       "      <td>20111028</td>\n",
       "      <td>20240509</td>\n",
       "    </tr>\n",
       "    <tr>\n",
       "      <th>4</th>\n",
       "      <td>신분당선</td>\n",
       "      <td>신분당선</td>\n",
       "      <td>4308</td>\n",
       "      <td>양재(서초구청)</td>\n",
       "      <td>37.484117</td>\n",
       "      <td>127.034371</td>\n",
       "      <td>서울 서초구 양재동 1366-9 신분당선 양재역</td>\n",
       "      <td>서울 서초구 남부순환로 2585 신분당선 양재역</td>\n",
       "      <td>20111028</td>\n",
       "      <td>20240509</td>\n",
       "    </tr>\n",
       "  </tbody>\n",
       "</table>\n",
       "</div>"
      ],
      "text/plain": [
       "  철도운영기관명  운영노선  역 번호    역명(한글)   역 위치(경도)    역 위치(위도)  \\\n",
       "0    신분당선  신분당선  4304       신사역  37.516287  127.020023   \n",
       "1    신분당선  신분당선  4305       논현역  37.509647  127.022055   \n",
       "2    신분당선  신분당선  4306      신논현역  37.504063  127.024407   \n",
       "3    신분당선  신분당선  4307       강남역  37.496068  127.028506   \n",
       "4    신분당선  신분당선  4308  양재(서초구청)  37.484117  127.034371   \n",
       "\n",
       "                   역 주소(지번주소)                역 주소(도로명 주소)      신설일자  데이터 기준일자  \n",
       "0             서울시 강남구 신사동 667            서울시 강남구 도산대로 102  20220528  20240509  \n",
       "1           서울시 강남구 논현동 280번지         서울시 강남구 학동로 지하 102   20220528  20240509  \n",
       "2             서울시 강남구 역삼동 800        서울시 강남구 봉은사로 지하 102   20220528  20240509  \n",
       "3       서울특별시 강남구 역삼동 858 강남역        서울특별시 강남구 강남대로 지하396  20111028  20240509  \n",
       "4  서울 서초구 양재동 1366-9 신분당선 양재역  서울 서초구 남부순환로 2585 신분당선 양재역  20111028  20240509  "
      ]
     },
     "execution_count": 60,
     "metadata": {},
     "output_type": "execute_result"
    }
   ],
   "source": [
    "df_new = df_new[['철도운영기관명', '운영노선', '역 번호', '역명(한글)', '역 위치(경도)','역 위치(위도)', \n",
    "                '역 주소(지번주소)', '역 주소(도로명 주소)', '신설일자', '데이터 기준일자']]\n",
    "\n",
    "df_new.head()"
   ]
  },
  {
   "cell_type": "code",
   "execution_count": 64,
   "metadata": {},
   "outputs": [],
   "source": [
    "df_9_2 = pd.read_csv('./data/Raw_data/국가철도공단_수도권9호선_역위치_20231106.csv')"
   ]
  },
  {
   "cell_type": "code",
   "execution_count": 74,
   "metadata": {},
   "outputs": [
    {
     "name": "stderr",
     "output_type": "stream",
     "text": [
      "/tmp/ipykernel_798246/592878567.py:2: FutureWarning: A value is trying to be set on a copy of a DataFrame or Series through chained assignment using an inplace method.\n",
      "The behavior will change in pandas 3.0. This inplace method will never work because the intermediate object on which we are setting values always behaves as a copy.\n",
      "\n",
      "For example, when doing 'df[col].method(value, inplace=True)', try using 'df.method({col: value}, inplace=True)' or df[col] = df[col].method(value) instead, to perform the operation inplace on the original object.\n",
      "\n",
      "\n",
      "  df_9['역 위치(위도)'].fillna(df_9_2['위도'], inplace=True)\n"
     ]
    }
   ],
   "source": [
    "df_9['역 위치(경도)'].fillna(df_9_2['경도'], inplace=True)\n",
    "df_9['역 위치(위도)'].fillna(df_9_2['위도'], inplace=True)"
   ]
  },
  {
   "cell_type": "code",
   "execution_count": 76,
   "metadata": {},
   "outputs": [],
   "source": [
    "df_concat = pd.concat([df_seoul, df_9, df_new], axis=0)"
   ]
  },
  {
   "cell_type": "code",
   "execution_count": 78,
   "metadata": {},
   "outputs": [],
   "source": [
    "df_concat.to_csv('./data/sub_concat.csv', index=False)\n",
    "df_concat.to_excel('./data/sub_concat.xlsx', index=False)"
   ]
  },
  {
   "cell_type": "code",
   "execution_count": 86,
   "metadata": {},
   "outputs": [],
   "source": [
    "original_list = df['역명'].unique().tolist()"
   ]
  },
  {
   "cell_type": "code",
   "execution_count": 85,
   "metadata": {},
   "outputs": [],
   "source": [
    "concat_list = df_concat['역명(한글)'].unique().tolist()"
   ]
  },
  {
   "cell_type": "code",
   "execution_count": 96,
   "metadata": {},
   "outputs": [],
   "source": [
    "non_concat_list = []\n",
    "non_ori_list = []\n",
    "\n",
    "for i in concat_list:\n",
    "    if i not in original_list:\n",
    "        non_concat_list.append(i)\n",
    "        \n",
    "for i in original_list:\n",
    "    if i not in concat_list:\n",
    "        non_ori_list.append(i)"
   ]
  },
  {
   "cell_type": "code",
   "execution_count": 110,
   "metadata": {},
   "outputs": [],
   "source": [
    "df_not_in = df_concat[df_concat['역명(한글)'].isin(non_concat_list)].copy()"
   ]
  },
  {
   "cell_type": "code",
   "execution_count": 111,
   "metadata": {},
   "outputs": [],
   "source": [
    "df_not_in.drop(['역 위치(경도)', '역 위치(위도)', '역 주소(지번주소)', '신설일자', '데이터 기준일자'], axis=1, inplace=True)"
   ]
  },
  {
   "cell_type": "code",
   "execution_count": 113,
   "metadata": {},
   "outputs": [],
   "source": [
    "df_not_in.columns = ['철도운영기관명', '선명', '역번호', '역명', '역사도로명주소_y']"
   ]
  },
  {
   "cell_type": "code",
   "execution_count": 115,
   "metadata": {},
   "outputs": [],
   "source": [
    "df_not_in = df_not_in[['철도운영기관명', '선명', '역명', '역번호', '역사도로명주소_y']]"
   ]
  },
  {
   "cell_type": "code",
   "execution_count": 119,
   "metadata": {},
   "outputs": [
    {
     "name": "stderr",
     "output_type": "stream",
     "text": [
      "/tmp/ipykernel_798246/3236250421.py:1: SettingWithCopyWarning: \n",
      "A value is trying to be set on a copy of a slice from a DataFrame.\n",
      "Try using .loc[row_indexer,col_indexer] = value instead\n",
      "\n",
      "See the caveats in the documentation: https://pandas.pydata.org/pandas-docs/stable/user_guide/indexing.html#returning-a-view-versus-a-copy\n",
      "  df_not_in[['출구번호', '출구별 주요시설명']] = np.nan\n",
      "/tmp/ipykernel_798246/3236250421.py:1: SettingWithCopyWarning: \n",
      "A value is trying to be set on a copy of a slice from a DataFrame.\n",
      "Try using .loc[row_indexer,col_indexer] = value instead\n",
      "\n",
      "See the caveats in the documentation: https://pandas.pydata.org/pandas-docs/stable/user_guide/indexing.html#returning-a-view-versus-a-copy\n",
      "  df_not_in[['출구번호', '출구별 주요시설명']] = np.nan\n"
     ]
    }
   ],
   "source": [
    "df_not_in[['출구번호', '출구별 주요시설명']] = np.nan"
   ]
  },
  {
   "cell_type": "code",
   "execution_count": 122,
   "metadata": {},
   "outputs": [],
   "source": [
    "df_not_in = df_not_in[['철도운영기관명', '선명', '역명', '출구번호', '출구별 주요시설명', '역번호', '역사도로명주소_y']]"
   ]
  },
  {
   "cell_type": "code",
   "execution_count": null,
   "metadata": {},
   "outputs": [],
   "source": []
  },
  {
   "cell_type": "code",
   "execution_count": 128,
   "metadata": {},
   "outputs": [],
   "source": [
    "df_not_in['철도운영기관명'] = df_not_in['철도운영기관명'].str.replace('신분당선', '경기도 신분당선')"
   ]
  },
  {
   "cell_type": "code",
   "execution_count": 129,
   "metadata": {},
   "outputs": [],
   "source": [
    "df_total = pd.concat([df, df_not_in], axis=0)"
   ]
  },
  {
   "cell_type": "code",
   "execution_count": 131,
   "metadata": {},
   "outputs": [],
   "source": [
    "df_total = df_total.sort_values(by=['선명', '역명', '출구번호'])"
   ]
  },
  {
   "cell_type": "code",
   "execution_count": 132,
   "metadata": {},
   "outputs": [],
   "source": [
    "df_total.reset_index(drop=True, inplace=True)"
   ]
  },
  {
   "cell_type": "code",
   "execution_count": 140,
   "metadata": {},
   "outputs": [
    {
     "data": {
      "text/html": [
       "<div>\n",
       "<style scoped>\n",
       "    .dataframe tbody tr th:only-of-type {\n",
       "        vertical-align: middle;\n",
       "    }\n",
       "\n",
       "    .dataframe tbody tr th {\n",
       "        vertical-align: top;\n",
       "    }\n",
       "\n",
       "    .dataframe thead th {\n",
       "        text-align: right;\n",
       "    }\n",
       "</style>\n",
       "<table border=\"1\" class=\"dataframe\">\n",
       "  <thead>\n",
       "    <tr style=\"text-align: right;\">\n",
       "      <th></th>\n",
       "      <th>철도운영기관명</th>\n",
       "      <th>선명</th>\n",
       "      <th>역명</th>\n",
       "      <th>출구번호</th>\n",
       "      <th>출구별 주요시설명</th>\n",
       "      <th>역번호</th>\n",
       "      <th>역사도로명주소_y</th>\n",
       "      <th>merge</th>\n",
       "    </tr>\n",
       "  </thead>\n",
       "  <tbody>\n",
       "    <tr>\n",
       "      <th>0</th>\n",
       "      <td>서울교통공사</td>\n",
       "      <td>1호선</td>\n",
       "      <td>동대문</td>\n",
       "      <td>1</td>\n",
       "      <td>흥인지문 공원</td>\n",
       "      <td>0128</td>\n",
       "      <td>서울특별시 종로구 종로 지하302(창신동)</td>\n",
       "      <td>1호선 동대문</td>\n",
       "    </tr>\n",
       "    <tr>\n",
       "      <th>1</th>\n",
       "      <td>서울교통공사</td>\n",
       "      <td>1호선</td>\n",
       "      <td>동대문</td>\n",
       "      <td>10</td>\n",
       "      <td>한방약국가</td>\n",
       "      <td>0128</td>\n",
       "      <td>서울특별시 종로구 종로 지하302(창신동)</td>\n",
       "      <td>1호선 동대문</td>\n",
       "    </tr>\n",
       "  </tbody>\n",
       "</table>\n",
       "</div>"
      ],
      "text/plain": [
       "  철도운영기관명   선명   역명 출구번호 출구별 주요시설명   역번호                역사도로명주소_y    merge\n",
       "0  서울교통공사  1호선  동대문    1   흥인지문 공원  0128  서울특별시 종로구 종로 지하302(창신동)  1호선 동대문\n",
       "1  서울교통공사  1호선  동대문   10     한방약국가  0128  서울특별시 종로구 종로 지하302(창신동)  1호선 동대문"
      ]
     },
     "execution_count": 140,
     "metadata": {},
     "output_type": "execute_result"
    }
   ],
   "source": [
    "df_total.head(2)"
   ]
  },
  {
   "cell_type": "code",
   "execution_count": 139,
   "metadata": {},
   "outputs": [],
   "source": [
    "df_total['merge'] = df_total['선명']+' '+df_total['역명']\n",
    "df_concat['merge'] = df_concat['운영노선']+' '+df_concat['역명(한글)']"
   ]
  },
  {
   "cell_type": "code",
   "execution_count": 141,
   "metadata": {},
   "outputs": [
    {
     "data": {
      "text/html": [
       "<div>\n",
       "<style scoped>\n",
       "    .dataframe tbody tr th:only-of-type {\n",
       "        vertical-align: middle;\n",
       "    }\n",
       "\n",
       "    .dataframe tbody tr th {\n",
       "        vertical-align: top;\n",
       "    }\n",
       "\n",
       "    .dataframe thead th {\n",
       "        text-align: right;\n",
       "    }\n",
       "</style>\n",
       "<table border=\"1\" class=\"dataframe\">\n",
       "  <thead>\n",
       "    <tr style=\"text-align: right;\">\n",
       "      <th></th>\n",
       "      <th>철도운영기관명</th>\n",
       "      <th>운영노선</th>\n",
       "      <th>역 번호</th>\n",
       "      <th>역명(한글)</th>\n",
       "      <th>역 위치(경도)</th>\n",
       "      <th>역 위치(위도)</th>\n",
       "      <th>역 주소(지번주소)</th>\n",
       "      <th>역 주소(도로명 주소)</th>\n",
       "      <th>신설일자</th>\n",
       "      <th>데이터 기준일자</th>\n",
       "      <th>merge</th>\n",
       "    </tr>\n",
       "  </thead>\n",
       "  <tbody>\n",
       "    <tr>\n",
       "      <th>0</th>\n",
       "      <td>서울교통공사</td>\n",
       "      <td>1호선</td>\n",
       "      <td>150</td>\n",
       "      <td>서울역</td>\n",
       "      <td>126.972533</td>\n",
       "      <td>37.55315</td>\n",
       "      <td>서울특별시 중구 남대문로5가 73-6 서울역(1호선)</td>\n",
       "      <td>서울특별시 중구 세종대로 지하2(남대문로 5가)</td>\n",
       "      <td>19740815</td>\n",
       "      <td>20240514</td>\n",
       "      <td>1호선 서울역</td>\n",
       "    </tr>\n",
       "    <tr>\n",
       "      <th>1</th>\n",
       "      <td>서울교통공사</td>\n",
       "      <td>1호선</td>\n",
       "      <td>151</td>\n",
       "      <td>시청</td>\n",
       "      <td>126.975407</td>\n",
       "      <td>37.56359</td>\n",
       "      <td>서울특별시 중구 정동 5-5 시청역(1호선)</td>\n",
       "      <td>서울특별시 중구 세종대로 지하101(정동)</td>\n",
       "      <td>19740815</td>\n",
       "      <td>20240514</td>\n",
       "      <td>1호선 시청</td>\n",
       "    </tr>\n",
       "  </tbody>\n",
       "</table>\n",
       "</div>"
      ],
      "text/plain": [
       "  철도운영기관명 운영노선  역 번호 역명(한글)    역 위치(경도)  역 위치(위도)  \\\n",
       "0  서울교통공사  1호선   150    서울역  126.972533  37.55315   \n",
       "1  서울교통공사  1호선   151     시청  126.975407  37.56359   \n",
       "\n",
       "                      역 주소(지번주소)                역 주소(도로명 주소)      신설일자  \\\n",
       "0  서울특별시 중구 남대문로5가 73-6 서울역(1호선)  서울특별시 중구 세종대로 지하2(남대문로 5가)  19740815   \n",
       "1       서울특별시 중구 정동 5-5 시청역(1호선)     서울특별시 중구 세종대로 지하101(정동)  19740815   \n",
       "\n",
       "   데이터 기준일자    merge  \n",
       "0  20240514  1호선 서울역  \n",
       "1  20240514   1호선 시청  "
      ]
     },
     "execution_count": 141,
     "metadata": {},
     "output_type": "execute_result"
    }
   ],
   "source": [
    "df_concat.head(2)"
   ]
  },
  {
   "cell_type": "code",
   "execution_count": 145,
   "metadata": {},
   "outputs": [
    {
     "data": {
      "text/plain": [
       "array(['서울교통공사', '서울9호선', '한국철도공사', '경기도 신분당선'], dtype=object)"
      ]
     },
     "execution_count": 145,
     "metadata": {},
     "output_type": "execute_result"
    }
   ],
   "source": [
    "df_total['철도운영기관명'].unique()"
   ]
  },
  {
   "cell_type": "code",
   "execution_count": 148,
   "metadata": {},
   "outputs": [
    {
     "data": {
      "text/html": [
       "<div>\n",
       "<style scoped>\n",
       "    .dataframe tbody tr th:only-of-type {\n",
       "        vertical-align: middle;\n",
       "    }\n",
       "\n",
       "    .dataframe tbody tr th {\n",
       "        vertical-align: top;\n",
       "    }\n",
       "\n",
       "    .dataframe thead th {\n",
       "        text-align: right;\n",
       "    }\n",
       "</style>\n",
       "<table border=\"1\" class=\"dataframe\">\n",
       "  <thead>\n",
       "    <tr style=\"text-align: right;\">\n",
       "      <th></th>\n",
       "      <th>철도운영기관명</th>\n",
       "      <th>선명</th>\n",
       "      <th>역명</th>\n",
       "      <th>출구번호</th>\n",
       "      <th>출구별 주요시설명</th>\n",
       "      <th>역번호</th>\n",
       "      <th>역사도로명주소_y</th>\n",
       "      <th>merge</th>\n",
       "    </tr>\n",
       "  </thead>\n",
       "  <tbody>\n",
       "    <tr>\n",
       "      <th>0</th>\n",
       "      <td>서울교통공사</td>\n",
       "      <td>1호선</td>\n",
       "      <td>동대문</td>\n",
       "      <td>1</td>\n",
       "      <td>흥인지문 공원</td>\n",
       "      <td>0128</td>\n",
       "      <td>서울특별시 종로구 종로 지하302(창신동)</td>\n",
       "      <td>1호선 동대문</td>\n",
       "    </tr>\n",
       "    <tr>\n",
       "      <th>1</th>\n",
       "      <td>서울교통공사</td>\n",
       "      <td>1호선</td>\n",
       "      <td>동대문</td>\n",
       "      <td>10</td>\n",
       "      <td>한방약국가</td>\n",
       "      <td>0128</td>\n",
       "      <td>서울특별시 종로구 종로 지하302(창신동)</td>\n",
       "      <td>1호선 동대문</td>\n",
       "    </tr>\n",
       "    <tr>\n",
       "      <th>2</th>\n",
       "      <td>서울교통공사</td>\n",
       "      <td>1호선</td>\n",
       "      <td>동대문</td>\n",
       "      <td>2</td>\n",
       "      <td>창신동·숭인동</td>\n",
       "      <td>0128</td>\n",
       "      <td>서울특별시 종로구 종로 지하302(창신동)</td>\n",
       "      <td>1호선 동대문</td>\n",
       "    </tr>\n",
       "    <tr>\n",
       "      <th>3</th>\n",
       "      <td>서울교통공사</td>\n",
       "      <td>1호선</td>\n",
       "      <td>동대문</td>\n",
       "      <td>3</td>\n",
       "      <td>창신동·숭인동</td>\n",
       "      <td>0128</td>\n",
       "      <td>서울특별시 종로구 종로 지하302(창신동)</td>\n",
       "      <td>1호선 동대문</td>\n",
       "    </tr>\n",
       "    <tr>\n",
       "      <th>4</th>\n",
       "      <td>서울교통공사</td>\n",
       "      <td>1호선</td>\n",
       "      <td>동대문</td>\n",
       "      <td>4</td>\n",
       "      <td>신설동 방면</td>\n",
       "      <td>0128</td>\n",
       "      <td>서울특별시 종로구 종로 지하302(창신동)</td>\n",
       "      <td>1호선 동대문</td>\n",
       "    </tr>\n",
       "    <tr>\n",
       "      <th>...</th>\n",
       "      <td>...</td>\n",
       "      <td>...</td>\n",
       "      <td>...</td>\n",
       "      <td>...</td>\n",
       "      <td>...</td>\n",
       "      <td>...</td>\n",
       "      <td>...</td>\n",
       "      <td>...</td>\n",
       "    </tr>\n",
       "    <tr>\n",
       "      <th>1840</th>\n",
       "      <td>경기도 신분당선</td>\n",
       "      <td>신분당선</td>\n",
       "      <td>양재시민의숲(매헌)</td>\n",
       "      <td>NaN</td>\n",
       "      <td>NaN</td>\n",
       "      <td>D009</td>\n",
       "      <td>서울특별시 서초구 매헌로 지하 116</td>\n",
       "      <td>신분당선 양재시민의숲(매헌)</td>\n",
       "    </tr>\n",
       "    <tr>\n",
       "      <th>1841</th>\n",
       "      <td>경기도 신분당선</td>\n",
       "      <td>신분당선</td>\n",
       "      <td>정자</td>\n",
       "      <td>NaN</td>\n",
       "      <td>NaN</td>\n",
       "      <td>D012</td>\n",
       "      <td>경기도 성남시 분당구 성남대로 지하 333</td>\n",
       "      <td>신분당선 정자</td>\n",
       "    </tr>\n",
       "    <tr>\n",
       "      <th>1842</th>\n",
       "      <td>경기도 신분당선</td>\n",
       "      <td>신분당선</td>\n",
       "      <td>청계산입구</td>\n",
       "      <td>NaN</td>\n",
       "      <td>NaN</td>\n",
       "      <td>D010</td>\n",
       "      <td>서울특별시 서초구 청계산로 지하 179</td>\n",
       "      <td>신분당선 청계산입구</td>\n",
       "    </tr>\n",
       "    <tr>\n",
       "      <th>1843</th>\n",
       "      <td>경기도 신분당선</td>\n",
       "      <td>신분당선</td>\n",
       "      <td>판교</td>\n",
       "      <td>NaN</td>\n",
       "      <td>NaN</td>\n",
       "      <td>D011</td>\n",
       "      <td>경기도 성남시 분당구 판교역로 지하 160</td>\n",
       "      <td>신분당선 판교</td>\n",
       "    </tr>\n",
       "    <tr>\n",
       "      <th>1844</th>\n",
       "      <td>경기도 신분당선</td>\n",
       "      <td>신분당선</td>\n",
       "      <td>판교 (판교테크노밸리)</td>\n",
       "      <td>NaN</td>\n",
       "      <td>NaN</td>\n",
       "      <td>4311</td>\n",
       "      <td>경기 성남시 분당구 판교역로 160</td>\n",
       "      <td>신분당선 판교 (판교테크노밸리)</td>\n",
       "    </tr>\n",
       "  </tbody>\n",
       "</table>\n",
       "<p>1845 rows × 8 columns</p>\n",
       "</div>"
      ],
      "text/plain": [
       "       철도운영기관명    선명            역명 출구번호 출구별 주요시설명   역번호  \\\n",
       "0       서울교통공사   1호선           동대문    1   흥인지문 공원  0128   \n",
       "1       서울교통공사   1호선           동대문   10     한방약국가  0128   \n",
       "2       서울교통공사   1호선           동대문    2   창신동·숭인동  0128   \n",
       "3       서울교통공사   1호선           동대문    3   창신동·숭인동  0128   \n",
       "4       서울교통공사   1호선           동대문    4    신설동 방면  0128   \n",
       "...        ...   ...           ...  ...       ...   ...   \n",
       "1840  경기도 신분당선  신분당선    양재시민의숲(매헌)  NaN       NaN  D009   \n",
       "1841  경기도 신분당선  신분당선            정자  NaN       NaN  D012   \n",
       "1842  경기도 신분당선  신분당선         청계산입구  NaN       NaN  D010   \n",
       "1843  경기도 신분당선  신분당선            판교  NaN       NaN  D011   \n",
       "1844  경기도 신분당선  신분당선  판교 (판교테크노밸리)  NaN       NaN  4311   \n",
       "\n",
       "                     역사도로명주소_y              merge  \n",
       "0      서울특별시 종로구 종로 지하302(창신동)            1호선 동대문  \n",
       "1      서울특별시 종로구 종로 지하302(창신동)            1호선 동대문  \n",
       "2      서울특별시 종로구 종로 지하302(창신동)            1호선 동대문  \n",
       "3      서울특별시 종로구 종로 지하302(창신동)            1호선 동대문  \n",
       "4      서울특별시 종로구 종로 지하302(창신동)            1호선 동대문  \n",
       "...                        ...                ...  \n",
       "1840      서울특별시 서초구 매헌로 지하 116    신분당선 양재시민의숲(매헌)  \n",
       "1841  경기도 성남시 분당구 성남대로 지하 333             신분당선 정자  \n",
       "1842     서울특별시 서초구 청계산로 지하 179         신분당선 청계산입구  \n",
       "1843   경기도 성남시 분당구 판교역로 지하 160            신분당선 판교  \n",
       "1844       경기 성남시 분당구 판교역로 160  신분당선 판교 (판교테크노밸리)  \n",
       "\n",
       "[1845 rows x 8 columns]"
      ]
     },
     "execution_count": 148,
     "metadata": {},
     "output_type": "execute_result"
    }
   ],
   "source": [
    "df_total"
   ]
  },
  {
   "cell_type": "code",
   "execution_count": 150,
   "metadata": {},
   "outputs": [],
   "source": [
    "df_final = pd.merge(df_total, df_concat, how='left', on='merge')"
   ]
  },
  {
   "cell_type": "code",
   "execution_count": 152,
   "metadata": {},
   "outputs": [],
   "source": [
    "df_final.drop(['merge', '철도운영기관명_y', '역명(한글)', '데이터 기준일자'], axis=1, inplace=True)"
   ]
  },
  {
   "cell_type": "code",
   "execution_count": 155,
   "metadata": {},
   "outputs": [],
   "source": [
    "df_final.columns = ['철도운영기관명',\n",
    " '선명',\n",
    " '역명',\n",
    " '출구번호',\n",
    " '출구별 주요시설명',\n",
    " '역번호',\n",
    " '역사도로명주소',\n",
    " '운영노선',\n",
    " '역 번호',\n",
    " '경도',\n",
    " '위도',\n",
    " '역 주소(지번주소)',\n",
    " '역 주소(도로명 주소)',\n",
    " '신설일자']"
   ]
  },
  {
   "cell_type": "code",
   "execution_count": 157,
   "metadata": {},
   "outputs": [],
   "source": [
    "df_final.to_csv('./sub_merge.csv', index=False)\n",
    "df_final.to_excel('./sub_merge.xlsx', index=False)"
   ]
  },
  {
   "cell_type": "code",
   "execution_count": null,
   "metadata": {},
   "outputs": [],
   "source": []
  }
 ],
 "metadata": {
  "kernelspec": {
   "display_name": "InHeon",
   "language": "python",
   "name": "python3"
  },
  "language_info": {
   "codemirror_mode": {
    "name": "ipython",
    "version": 3
   },
   "file_extension": ".py",
   "mimetype": "text/x-python",
   "name": "python",
   "nbconvert_exporter": "python",
   "pygments_lexer": "ipython3",
   "version": "3.11.9"
  }
 },
 "nbformat": 4,
 "nbformat_minor": 2
}
