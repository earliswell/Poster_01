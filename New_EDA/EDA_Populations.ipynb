{
 "cells": [
  {
   "cell_type": "code",
   "execution_count": 1,
   "metadata": {},
   "outputs": [],
   "source": [
    "import pandas as pd\n",
    "import numpy as np"
   ]
  },
  {
   "cell_type": "code",
   "execution_count": 34,
   "metadata": {},
   "outputs": [
    {
     "data": {
      "text/html": [
       "<div>\n",
       "<style scoped>\n",
       "    .dataframe tbody tr th:only-of-type {\n",
       "        vertical-align: middle;\n",
       "    }\n",
       "\n",
       "    .dataframe tbody tr th {\n",
       "        vertical-align: top;\n",
       "    }\n",
       "\n",
       "    .dataframe thead th {\n",
       "        text-align: right;\n",
       "    }\n",
       "</style>\n",
       "<table border=\"1\" class=\"dataframe\">\n",
       "  <thead>\n",
       "    <tr style=\"text-align: right;\">\n",
       "      <th></th>\n",
       "      <th>동별(1)</th>\n",
       "      <th>동별(2)</th>\n",
       "      <th>시점</th>\n",
       "      <th>계 (명)</th>\n",
       "      <th>계 (명).1</th>\n",
       "      <th>계 (명).2</th>\n",
       "      <th>한국인</th>\n",
       "      <th>한국인.1</th>\n",
       "      <th>등록외국인</th>\n",
       "      <th>등록외국인.1</th>\n",
       "    </tr>\n",
       "  </thead>\n",
       "  <tbody>\n",
       "    <tr>\n",
       "      <th>0</th>\n",
       "      <td>동별(1)</td>\n",
       "      <td>동별(2)</td>\n",
       "      <td>시점</td>\n",
       "      <td>소계</td>\n",
       "      <td>남자</td>\n",
       "      <td>여자</td>\n",
       "      <td>남자</td>\n",
       "      <td>여자</td>\n",
       "      <td>남자</td>\n",
       "      <td>여자</td>\n",
       "    </tr>\n",
       "    <tr>\n",
       "      <th>1</th>\n",
       "      <td>합계</td>\n",
       "      <td>소계</td>\n",
       "      <td>2011 1/4</td>\n",
       "      <td>10581728</td>\n",
       "      <td>5238674</td>\n",
       "      <td>5343054</td>\n",
       "      <td>5107011</td>\n",
       "      <td>5200772</td>\n",
       "      <td>131663</td>\n",
       "      <td>142282</td>\n",
       "    </tr>\n",
       "    <tr>\n",
       "      <th>2</th>\n",
       "      <td>합계</td>\n",
       "      <td>소계</td>\n",
       "      <td>2011 2/4</td>\n",
       "      <td>10570064</td>\n",
       "      <td>5231751</td>\n",
       "      <td>5338313</td>\n",
       "      <td>5095751</td>\n",
       "      <td>5192533</td>\n",
       "      <td>136000</td>\n",
       "      <td>145780</td>\n",
       "    </tr>\n",
       "    <tr>\n",
       "      <th>3</th>\n",
       "      <td>합계</td>\n",
       "      <td>소계</td>\n",
       "      <td>2011 3/4</td>\n",
       "      <td>10557498</td>\n",
       "      <td>5224009</td>\n",
       "      <td>5333489</td>\n",
       "      <td>5086210</td>\n",
       "      <td>5185670</td>\n",
       "      <td>137799</td>\n",
       "      <td>147819</td>\n",
       "    </tr>\n",
       "    <tr>\n",
       "      <th>4</th>\n",
       "      <td>합계</td>\n",
       "      <td>소계</td>\n",
       "      <td>2011 4/4</td>\n",
       "      <td>10528774</td>\n",
       "      <td>5208492</td>\n",
       "      <td>5320282</td>\n",
       "      <td>5073899</td>\n",
       "      <td>5175780</td>\n",
       "      <td>134593</td>\n",
       "      <td>144502</td>\n",
       "    </tr>\n",
       "  </tbody>\n",
       "</table>\n",
       "</div>"
      ],
      "text/plain": [
       "   동별(1)  동별(2)        시점     계 (명)  계 (명).1  계 (명).2      한국인    한국인.1  \\\n",
       "0  동별(1)  동별(2)        시점        소계       남자       여자       남자       여자   \n",
       "1     합계     소계  2011 1/4  10581728  5238674  5343054  5107011  5200772   \n",
       "2     합계     소계  2011 2/4  10570064  5231751  5338313  5095751  5192533   \n",
       "3     합계     소계  2011 3/4  10557498  5224009  5333489  5086210  5185670   \n",
       "4     합계     소계  2011 4/4  10528774  5208492  5320282  5073899  5175780   \n",
       "\n",
       "    등록외국인 등록외국인.1  \n",
       "0      남자      여자  \n",
       "1  131663  142282  \n",
       "2  136000  145780  \n",
       "3  137799  147819  \n",
       "4  134593  144502  "
      ]
     },
     "execution_count": 34,
     "metadata": {},
     "output_type": "execute_result"
    }
   ],
   "source": [
    "df = pd.read_csv('./data/등록인구_20240814162128.csv')\n",
    "df.head()"
   ]
  },
  {
   "cell_type": "code",
   "execution_count": 35,
   "metadata": {},
   "outputs": [
    {
     "data": {
      "text/html": [
       "<div>\n",
       "<style scoped>\n",
       "    .dataframe tbody tr th:only-of-type {\n",
       "        vertical-align: middle;\n",
       "    }\n",
       "\n",
       "    .dataframe tbody tr th {\n",
       "        vertical-align: top;\n",
       "    }\n",
       "\n",
       "    .dataframe thead th {\n",
       "        text-align: right;\n",
       "    }\n",
       "</style>\n",
       "<table border=\"1\" class=\"dataframe\">\n",
       "  <thead>\n",
       "    <tr style=\"text-align: right;\">\n",
       "      <th></th>\n",
       "      <th>동별(1)</th>\n",
       "      <th>동별(2)</th>\n",
       "      <th>시점</th>\n",
       "      <th>계 (명)</th>\n",
       "      <th>계 (명).1</th>\n",
       "      <th>계 (명).2</th>\n",
       "      <th>한국인</th>\n",
       "      <th>한국인.1</th>\n",
       "      <th>등록외국인</th>\n",
       "      <th>등록외국인.1</th>\n",
       "    </tr>\n",
       "  </thead>\n",
       "  <tbody>\n",
       "    <tr>\n",
       "      <th>0</th>\n",
       "      <td>동별(1)</td>\n",
       "      <td>동별(2)</td>\n",
       "      <td>시점</td>\n",
       "      <td>소계</td>\n",
       "      <td>남자</td>\n",
       "      <td>여자</td>\n",
       "      <td>남자</td>\n",
       "      <td>여자</td>\n",
       "      <td>남자</td>\n",
       "      <td>여자</td>\n",
       "    </tr>\n",
       "    <tr>\n",
       "      <th>1</th>\n",
       "      <td>합계</td>\n",
       "      <td>소계</td>\n",
       "      <td>2011 1/4</td>\n",
       "      <td>10581728</td>\n",
       "      <td>5238674</td>\n",
       "      <td>5343054</td>\n",
       "      <td>5107011</td>\n",
       "      <td>5200772</td>\n",
       "      <td>131663</td>\n",
       "      <td>142282</td>\n",
       "    </tr>\n",
       "    <tr>\n",
       "      <th>2</th>\n",
       "      <td>합계</td>\n",
       "      <td>소계</td>\n",
       "      <td>2011 2/4</td>\n",
       "      <td>10570064</td>\n",
       "      <td>5231751</td>\n",
       "      <td>5338313</td>\n",
       "      <td>5095751</td>\n",
       "      <td>5192533</td>\n",
       "      <td>136000</td>\n",
       "      <td>145780</td>\n",
       "    </tr>\n",
       "    <tr>\n",
       "      <th>3</th>\n",
       "      <td>합계</td>\n",
       "      <td>소계</td>\n",
       "      <td>2011 3/4</td>\n",
       "      <td>10557498</td>\n",
       "      <td>5224009</td>\n",
       "      <td>5333489</td>\n",
       "      <td>5086210</td>\n",
       "      <td>5185670</td>\n",
       "      <td>137799</td>\n",
       "      <td>147819</td>\n",
       "    </tr>\n",
       "    <tr>\n",
       "      <th>4</th>\n",
       "      <td>합계</td>\n",
       "      <td>소계</td>\n",
       "      <td>2011 4/4</td>\n",
       "      <td>10528774</td>\n",
       "      <td>5208492</td>\n",
       "      <td>5320282</td>\n",
       "      <td>5073899</td>\n",
       "      <td>5175780</td>\n",
       "      <td>134593</td>\n",
       "      <td>144502</td>\n",
       "    </tr>\n",
       "    <tr>\n",
       "      <th>...</th>\n",
       "      <td>...</td>\n",
       "      <td>...</td>\n",
       "      <td>...</td>\n",
       "      <td>...</td>\n",
       "      <td>...</td>\n",
       "      <td>...</td>\n",
       "      <td>...</td>\n",
       "      <td>...</td>\n",
       "      <td>...</td>\n",
       "      <td>...</td>\n",
       "    </tr>\n",
       "    <tr>\n",
       "      <th>958</th>\n",
       "      <td>합계</td>\n",
       "      <td>강동구</td>\n",
       "      <td>2019 1/4</td>\n",
       "      <td>429601</td>\n",
       "      <td>212389</td>\n",
       "      <td>217212</td>\n",
       "      <td>210371</td>\n",
       "      <td>214896</td>\n",
       "      <td>2018</td>\n",
       "      <td>2316</td>\n",
       "    </tr>\n",
       "    <tr>\n",
       "      <th>959</th>\n",
       "      <td>합계</td>\n",
       "      <td>강동구</td>\n",
       "      <td>2019 2/4</td>\n",
       "      <td>428547</td>\n",
       "      <td>211752</td>\n",
       "      <td>216795</td>\n",
       "      <td>209746</td>\n",
       "      <td>214489</td>\n",
       "      <td>2006</td>\n",
       "      <td>2306</td>\n",
       "    </tr>\n",
       "    <tr>\n",
       "      <th>960</th>\n",
       "      <td>합계</td>\n",
       "      <td>강동구</td>\n",
       "      <td>2019 3/4</td>\n",
       "      <td>430522</td>\n",
       "      <td>212590</td>\n",
       "      <td>217932</td>\n",
       "      <td>210593</td>\n",
       "      <td>215626</td>\n",
       "      <td>1997</td>\n",
       "      <td>2306</td>\n",
       "    </tr>\n",
       "    <tr>\n",
       "      <th>961</th>\n",
       "      <td>합계</td>\n",
       "      <td>강동구</td>\n",
       "      <td>2019 4/4</td>\n",
       "      <td>440390</td>\n",
       "      <td>217338</td>\n",
       "      <td>223052</td>\n",
       "      <td>215335</td>\n",
       "      <td>220732</td>\n",
       "      <td>2003</td>\n",
       "      <td>2320</td>\n",
       "    </tr>\n",
       "    <tr>\n",
       "      <th>962</th>\n",
       "      <td>합계</td>\n",
       "      <td>강동구</td>\n",
       "      <td>2020 1/4</td>\n",
       "      <td>457042</td>\n",
       "      <td>225226</td>\n",
       "      <td>231816</td>\n",
       "      <td>223189</td>\n",
       "      <td>229457</td>\n",
       "      <td>2037</td>\n",
       "      <td>2359</td>\n",
       "    </tr>\n",
       "  </tbody>\n",
       "</table>\n",
       "<p>963 rows × 10 columns</p>\n",
       "</div>"
      ],
      "text/plain": [
       "     동별(1)  동별(2)        시점     계 (명)  계 (명).1  계 (명).2      한국인    한국인.1  \\\n",
       "0    동별(1)  동별(2)        시점        소계       남자       여자       남자       여자   \n",
       "1       합계     소계  2011 1/4  10581728  5238674  5343054  5107011  5200772   \n",
       "2       합계     소계  2011 2/4  10570064  5231751  5338313  5095751  5192533   \n",
       "3       합계     소계  2011 3/4  10557498  5224009  5333489  5086210  5185670   \n",
       "4       합계     소계  2011 4/4  10528774  5208492  5320282  5073899  5175780   \n",
       "..     ...    ...       ...       ...      ...      ...      ...      ...   \n",
       "958     합계    강동구  2019 1/4    429601   212389   217212   210371   214896   \n",
       "959     합계    강동구  2019 2/4    428547   211752   216795   209746   214489   \n",
       "960     합계    강동구  2019 3/4    430522   212590   217932   210593   215626   \n",
       "961     합계    강동구  2019 4/4    440390   217338   223052   215335   220732   \n",
       "962     합계    강동구  2020 1/4    457042   225226   231816   223189   229457   \n",
       "\n",
       "      등록외국인 등록외국인.1  \n",
       "0        남자      여자  \n",
       "1    131663  142282  \n",
       "2    136000  145780  \n",
       "3    137799  147819  \n",
       "4    134593  144502  \n",
       "..      ...     ...  \n",
       "958    2018    2316  \n",
       "959    2006    2306  \n",
       "960    1997    2306  \n",
       "961    2003    2320  \n",
       "962    2037    2359  \n",
       "\n",
       "[963 rows x 10 columns]"
      ]
     },
     "execution_count": 35,
     "metadata": {},
     "output_type": "execute_result"
    }
   ],
   "source": [
    "df"
   ]
  },
  {
   "cell_type": "code",
   "execution_count": 36,
   "metadata": {},
   "outputs": [],
   "source": [
    "df.columns = ['동별(1)', '동별', '시점', '소계', '소계_남자', '소계_여자', '한국_남자', '한국_여자', '외국_남자', '외국_여자']"
   ]
  },
  {
   "cell_type": "code",
   "execution_count": 37,
   "metadata": {},
   "outputs": [],
   "source": [
    "df.drop(index=0, inplace=True)"
   ]
  },
  {
   "cell_type": "code",
   "execution_count": 38,
   "metadata": {},
   "outputs": [],
   "source": [
    "df.drop('동별(1)', axis=1, inplace=True)"
   ]
  },
  {
   "cell_type": "code",
   "execution_count": 39,
   "metadata": {},
   "outputs": [],
   "source": [
    "df = df[df['동별'] != '소계']"
   ]
  },
  {
   "cell_type": "code",
   "execution_count": 40,
   "metadata": {},
   "outputs": [
    {
     "name": "stderr",
     "output_type": "stream",
     "text": [
      "/tmp/ipykernel_756730/3252555826.py:1: SettingWithCopyWarning: \n",
      "A value is trying to be set on a copy of a slice from a DataFrame.\n",
      "Try using .loc[row_indexer,col_indexer] = value instead\n",
      "\n",
      "See the caveats in the documentation: https://pandas.pydata.org/pandas-docs/stable/user_guide/indexing.html#returning-a-view-versus-a-copy\n",
      "  df['시점'] = df['시점'].str.replace('1/4', '-01')\n",
      "/tmp/ipykernel_756730/3252555826.py:2: SettingWithCopyWarning: \n",
      "A value is trying to be set on a copy of a slice from a DataFrame.\n",
      "Try using .loc[row_indexer,col_indexer] = value instead\n",
      "\n",
      "See the caveats in the documentation: https://pandas.pydata.org/pandas-docs/stable/user_guide/indexing.html#returning-a-view-versus-a-copy\n",
      "  df['시점'] = df['시점'].str.replace('2/4', '-04')\n",
      "/tmp/ipykernel_756730/3252555826.py:3: SettingWithCopyWarning: \n",
      "A value is trying to be set on a copy of a slice from a DataFrame.\n",
      "Try using .loc[row_indexer,col_indexer] = value instead\n",
      "\n",
      "See the caveats in the documentation: https://pandas.pydata.org/pandas-docs/stable/user_guide/indexing.html#returning-a-view-versus-a-copy\n",
      "  df['시점'] = df['시점'].str.replace('3/4', '-07')\n",
      "/tmp/ipykernel_756730/3252555826.py:4: SettingWithCopyWarning: \n",
      "A value is trying to be set on a copy of a slice from a DataFrame.\n",
      "Try using .loc[row_indexer,col_indexer] = value instead\n",
      "\n",
      "See the caveats in the documentation: https://pandas.pydata.org/pandas-docs/stable/user_guide/indexing.html#returning-a-view-versus-a-copy\n",
      "  df['시점'] = df['시점'].str.replace('4/4', '-10')\n"
     ]
    }
   ],
   "source": [
    "df['시점'] = df['시점'].str.replace('1/4', '-01')\n",
    "df['시점'] = df['시점'].str.replace('2/4', '-04')\n",
    "df['시점'] = df['시점'].str.replace('3/4', '-07')\n",
    "df['시점'] = df['시점'].str.replace('4/4', '-10')"
   ]
  },
  {
   "cell_type": "code",
   "execution_count": 41,
   "metadata": {},
   "outputs": [
    {
     "data": {
      "text/plain": [
       "array(['2011 -01', '2011 -04', '2011 -07', '2011 -10', '2012 -01',\n",
       "       '2012 -04', '2012 -07', '2012 -10', '2013 -01', '2013 -04',\n",
       "       '2013 -07', '2013 -10', '2014 -01', '2014 -04', '2014 -07',\n",
       "       '2014 -10', '2015 -01', '2015 -04', '2015 -07', '2015 -10',\n",
       "       '2016 -01', '2016 -04', '2016 -07', '2016 -10', '2017 -01',\n",
       "       '2017 -04', '2017 -07', '2017 -10', '2018 -01', '2018 -04',\n",
       "       '2018 -07', '2018 -10', '2019 -01', '2019 -04', '2019 -07',\n",
       "       '2019 -10', '2020 -01'], dtype=object)"
      ]
     },
     "execution_count": 41,
     "metadata": {},
     "output_type": "execute_result"
    }
   ],
   "source": [
    "df['시점'].unique()"
   ]
  },
  {
   "cell_type": "code",
   "execution_count": 43,
   "metadata": {},
   "outputs": [
    {
     "name": "stderr",
     "output_type": "stream",
     "text": [
      "/tmp/ipykernel_756730/955849182.py:1: SettingWithCopyWarning: \n",
      "A value is trying to be set on a copy of a slice from a DataFrame.\n",
      "Try using .loc[row_indexer,col_indexer] = value instead\n",
      "\n",
      "See the caveats in the documentation: https://pandas.pydata.org/pandas-docs/stable/user_guide/indexing.html#returning-a-view-versus-a-copy\n",
      "  df['시점'] = pd.to_datetime(df['시점'].str.replace(' ', '') + '-01')\n"
     ]
    }
   ],
   "source": [
    "df['시점'] = pd.to_datetime(df['시점'].str.replace(' ', '') + '-01')"
   ]
  },
  {
   "cell_type": "code",
   "execution_count": 46,
   "metadata": {},
   "outputs": [
    {
     "name": "stderr",
     "output_type": "stream",
     "text": [
      "/tmp/ipykernel_756730/1319765994.py:1: SettingWithCopyWarning: \n",
      "A value is trying to be set on a copy of a slice from a DataFrame.\n",
      "Try using .loc[row_indexer,col_indexer] = value instead\n",
      "\n",
      "See the caveats in the documentation: https://pandas.pydata.org/pandas-docs/stable/user_guide/indexing.html#returning-a-view-versus-a-copy\n",
      "  df['year'] = df['시점'].dt.year\n",
      "/tmp/ipykernel_756730/1319765994.py:2: SettingWithCopyWarning: \n",
      "A value is trying to be set on a copy of a slice from a DataFrame.\n",
      "Try using .loc[row_indexer,col_indexer] = value instead\n",
      "\n",
      "See the caveats in the documentation: https://pandas.pydata.org/pandas-docs/stable/user_guide/indexing.html#returning-a-view-versus-a-copy\n",
      "  df['quarter'] = df['시점'].dt.quarter\n"
     ]
    }
   ],
   "source": [
    "df['year'] = df['시점'].dt.year\n",
    "df['quarter'] = df['시점'].dt.quarter"
   ]
  },
  {
   "cell_type": "code",
   "execution_count": 48,
   "metadata": {},
   "outputs": [],
   "source": [
    "df.to_csv('./data/total_p.csv', index=False)"
   ]
  },
  {
   "cell_type": "code",
   "execution_count": 50,
   "metadata": {},
   "outputs": [
    {
     "name": "stderr",
     "output_type": "stream",
     "text": [
      "/tmp/ipykernel_756730/1949995856.py:1: SettingWithCopyWarning: \n",
      "A value is trying to be set on a copy of a slice from a DataFrame\n",
      "\n",
      "See the caveats in the documentation: https://pandas.pydata.org/pandas-docs/stable/user_guide/indexing.html#returning-a-view-versus-a-copy\n",
      "  df.drop(['소계_남자', '소계_여자', '한국_남자', '한국_여자', '외국_남자', '외국_여자'], axis=1, inplace=True)\n"
     ]
    }
   ],
   "source": [
    "df.drop(['소계_남자', '소계_여자', '한국_남자', '한국_여자', '외국_남자', '외국_여자'], axis=1, inplace=True)"
   ]
  },
  {
   "cell_type": "code",
   "execution_count": 52,
   "metadata": {},
   "outputs": [],
   "source": [
    "df.to_csv('./data/main_p.csv', index=False)"
   ]
  },
  {
   "cell_type": "code",
   "execution_count": null,
   "metadata": {},
   "outputs": [],
   "source": []
  }
 ],
 "metadata": {
  "kernelspec": {
   "display_name": "InHeon",
   "language": "python",
   "name": "python3"
  },
  "language_info": {
   "codemirror_mode": {
    "name": "ipython",
    "version": 3
   },
   "file_extension": ".py",
   "mimetype": "text/x-python",
   "name": "python",
   "nbconvert_exporter": "python",
   "pygments_lexer": "ipython3",
   "version": "3.11.9"
  }
 },
 "nbformat": 4,
 "nbformat_minor": 2
}
