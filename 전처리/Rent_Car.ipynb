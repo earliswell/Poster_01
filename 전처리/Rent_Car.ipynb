{
 "cells": [
  {
   "cell_type": "code",
   "execution_count": 16,
   "metadata": {},
   "outputs": [],
   "source": [
    "import os \n",
    "import glob\n",
    "\n",
    "import pandas as pd\n",
    "import geopandas as gpd\n",
    "import numpy as np\n",
    "\n",
    "\n",
    "file_path = './체류거점/2020/*.csv'\n",
    "file_list = glob.glob(file_path)"
   ]
  },
  {
   "cell_type": "code",
   "execution_count": 17,
   "metadata": {},
   "outputs": [
    {
     "name": "stdout",
     "output_type": "stream",
     "text": [
      "(318476, 6)\n"
     ]
    },
    {
     "data": {
      "text/html": [
       "<div>\n",
       "<style scoped>\n",
       "    .dataframe tbody tr th:only-of-type {\n",
       "        vertical-align: middle;\n",
       "    }\n",
       "\n",
       "    .dataframe tbody tr th {\n",
       "        vertical-align: top;\n",
       "    }\n",
       "\n",
       "    .dataframe thead th {\n",
       "        text-align: right;\n",
       "    }\n",
       "</style>\n",
       "<table border=\"1\" class=\"dataframe\">\n",
       "  <thead>\n",
       "    <tr style=\"text-align: right;\">\n",
       "      <th></th>\n",
       "      <th>oid</th>\n",
       "      <th>collection_dt</th>\n",
       "      <th>longitude</th>\n",
       "      <th>latitude</th>\n",
       "      <th>time</th>\n",
       "      <th>Diff</th>\n",
       "    </tr>\n",
       "  </thead>\n",
       "  <tbody>\n",
       "    <tr>\n",
       "      <th>0</th>\n",
       "      <td>0c0000fd</td>\n",
       "      <td>20200201070634</td>\n",
       "      <td>126.470092</td>\n",
       "      <td>33.482483</td>\n",
       "      <td>2020-02-01 07:06:34</td>\n",
       "      <td>3768</td>\n",
       "    </tr>\n",
       "    <tr>\n",
       "      <th>1</th>\n",
       "      <td>0c0000fd</td>\n",
       "      <td>20200201222423</td>\n",
       "      <td>126.527728</td>\n",
       "      <td>33.500267</td>\n",
       "      <td>2020-02-01 22:24:23</td>\n",
       "      <td>2461</td>\n",
       "    </tr>\n",
       "    <tr>\n",
       "      <th>2</th>\n",
       "      <td>0c0000fd</td>\n",
       "      <td>20200201231704</td>\n",
       "      <td>126.573477</td>\n",
       "      <td>33.256884</td>\n",
       "      <td>2020-02-01 23:17:04</td>\n",
       "      <td>8238</td>\n",
       "    </tr>\n",
       "    <tr>\n",
       "      <th>3</th>\n",
       "      <td>46100018</td>\n",
       "      <td>20200215122018</td>\n",
       "      <td>126.546978</td>\n",
       "      <td>33.511985</td>\n",
       "      <td>2020-02-15 12:20:18</td>\n",
       "      <td>2708</td>\n",
       "    </tr>\n",
       "    <tr>\n",
       "      <th>4</th>\n",
       "      <td>46100018</td>\n",
       "      <td>20200215133156</td>\n",
       "      <td>126.379015</td>\n",
       "      <td>33.475388</td>\n",
       "      <td>2020-02-15 13:31:56</td>\n",
       "      <td>3429</td>\n",
       "    </tr>\n",
       "  </tbody>\n",
       "</table>\n",
       "</div>"
      ],
      "text/plain": [
       "        oid   collection_dt   longitude   latitude                 time  Diff\n",
       "0  0c0000fd  20200201070634  126.470092  33.482483  2020-02-01 07:06:34  3768\n",
       "1  0c0000fd  20200201222423  126.527728  33.500267  2020-02-01 22:24:23  2461\n",
       "2  0c0000fd  20200201231704  126.573477  33.256884  2020-02-01 23:17:04  8238\n",
       "3  46100018  20200215122018  126.546978  33.511985  2020-02-15 12:20:18  2708\n",
       "4  46100018  20200215133156  126.379015  33.475388  2020-02-15 13:31:56  3429"
      ]
     },
     "execution_count": 17,
     "metadata": {},
     "output_type": "execute_result"
    }
   ],
   "source": [
    "all_data = pd.DataFrame()\n",
    "\n",
    "for file in file_list:\n",
    "    df = pd.read_csv(file)\n",
    "    all_data = pd.concat([all_data, df], ignore_index=False)\n",
    "\n",
    "\n",
    "print(all_data.shape)\n",
    "all_data.head()"
   ]
  },
  {
   "cell_type": "code",
   "execution_count": 18,
   "metadata": {},
   "outputs": [
    {
     "name": "stdout",
     "output_type": "stream",
     "text": [
      "(318183, 6)\n"
     ]
    },
    {
     "data": {
      "text/html": [
       "<div>\n",
       "<style scoped>\n",
       "    .dataframe tbody tr th:only-of-type {\n",
       "        vertical-align: middle;\n",
       "    }\n",
       "\n",
       "    .dataframe tbody tr th {\n",
       "        vertical-align: top;\n",
       "    }\n",
       "\n",
       "    .dataframe thead th {\n",
       "        text-align: right;\n",
       "    }\n",
       "</style>\n",
       "<table border=\"1\" class=\"dataframe\">\n",
       "  <thead>\n",
       "    <tr style=\"text-align: right;\">\n",
       "      <th></th>\n",
       "      <th>oid</th>\n",
       "      <th>collection_dt</th>\n",
       "      <th>longitude</th>\n",
       "      <th>latitude</th>\n",
       "      <th>time</th>\n",
       "      <th>Diff</th>\n",
       "    </tr>\n",
       "  </thead>\n",
       "  <tbody>\n",
       "    <tr>\n",
       "      <th>0</th>\n",
       "      <td>0c0000fd</td>\n",
       "      <td>20200201070634</td>\n",
       "      <td>126.470092</td>\n",
       "      <td>33.482483</td>\n",
       "      <td>2020-02-01 07:06:34</td>\n",
       "      <td>3768</td>\n",
       "    </tr>\n",
       "    <tr>\n",
       "      <th>1</th>\n",
       "      <td>0c0000fd</td>\n",
       "      <td>20200201222423</td>\n",
       "      <td>126.527728</td>\n",
       "      <td>33.500267</td>\n",
       "      <td>2020-02-01 22:24:23</td>\n",
       "      <td>2461</td>\n",
       "    </tr>\n",
       "    <tr>\n",
       "      <th>2</th>\n",
       "      <td>0c0000fd</td>\n",
       "      <td>20200201231704</td>\n",
       "      <td>126.573477</td>\n",
       "      <td>33.256884</td>\n",
       "      <td>2020-02-01 23:17:04</td>\n",
       "      <td>8238</td>\n",
       "    </tr>\n",
       "    <tr>\n",
       "      <th>3</th>\n",
       "      <td>46100018</td>\n",
       "      <td>20200215122018</td>\n",
       "      <td>126.546978</td>\n",
       "      <td>33.511985</td>\n",
       "      <td>2020-02-15 12:20:18</td>\n",
       "      <td>2708</td>\n",
       "    </tr>\n",
       "    <tr>\n",
       "      <th>4</th>\n",
       "      <td>46100018</td>\n",
       "      <td>20200215133156</td>\n",
       "      <td>126.379015</td>\n",
       "      <td>33.475388</td>\n",
       "      <td>2020-02-15 13:31:56</td>\n",
       "      <td>3429</td>\n",
       "    </tr>\n",
       "  </tbody>\n",
       "</table>\n",
       "</div>"
      ],
      "text/plain": [
       "        oid   collection_dt   longitude   latitude                 time  Diff\n",
       "0  0c0000fd  20200201070634  126.470092  33.482483  2020-02-01 07:06:34  3768\n",
       "1  0c0000fd  20200201222423  126.527728  33.500267  2020-02-01 22:24:23  2461\n",
       "2  0c0000fd  20200201231704  126.573477  33.256884  2020-02-01 23:17:04  8238\n",
       "3  46100018  20200215122018  126.546978  33.511985  2020-02-15 12:20:18  2708\n",
       "4  46100018  20200215133156  126.379015  33.475388  2020-02-15 13:31:56  3429"
      ]
     },
     "execution_count": 18,
     "metadata": {},
     "output_type": "execute_result"
    }
   ],
   "source": [
    "cond1 = (all_data['longitude'] < 128.60) & (all_data['longitude']>123.05)\n",
    "cond2 = (all_data['latitude'] < 33.56) & (all_data['latitude'] >33)\n",
    "\n",
    "df = all_data[cond1 & cond2]\n",
    "df.reset_index(drop=True, inplace=True)\n",
    "\n",
    "print(df.shape)\n",
    "df.head()"
   ]
  },
  {
   "cell_type": "code",
   "execution_count": 20,
   "metadata": {},
   "outputs": [
    {
     "data": {
      "text/html": [
       "<div>\n",
       "<style scoped>\n",
       "    .dataframe tbody tr th:only-of-type {\n",
       "        vertical-align: middle;\n",
       "    }\n",
       "\n",
       "    .dataframe tbody tr th {\n",
       "        vertical-align: top;\n",
       "    }\n",
       "\n",
       "    .dataframe thead th {\n",
       "        text-align: right;\n",
       "    }\n",
       "</style>\n",
       "<table border=\"1\" class=\"dataframe\">\n",
       "  <thead>\n",
       "    <tr style=\"text-align: right;\">\n",
       "      <th></th>\n",
       "      <th>oid</th>\n",
       "      <th>collection_dt</th>\n",
       "      <th>longitude</th>\n",
       "      <th>latitude</th>\n",
       "      <th>time</th>\n",
       "      <th>Diff</th>\n",
       "      <th>geometry</th>\n",
       "    </tr>\n",
       "  </thead>\n",
       "  <tbody>\n",
       "    <tr>\n",
       "      <th>0</th>\n",
       "      <td>0c0000fd</td>\n",
       "      <td>20200201070634</td>\n",
       "      <td>126.470092</td>\n",
       "      <td>33.482483</td>\n",
       "      <td>2020-02-01 07:06:34</td>\n",
       "      <td>3768</td>\n",
       "      <td>POINT (126.47009 33.48248)</td>\n",
       "    </tr>\n",
       "    <tr>\n",
       "      <th>1</th>\n",
       "      <td>0c0000fd</td>\n",
       "      <td>20200201222423</td>\n",
       "      <td>126.527728</td>\n",
       "      <td>33.500267</td>\n",
       "      <td>2020-02-01 22:24:23</td>\n",
       "      <td>2461</td>\n",
       "      <td>POINT (126.52773 33.50027)</td>\n",
       "    </tr>\n",
       "    <tr>\n",
       "      <th>2</th>\n",
       "      <td>0c0000fd</td>\n",
       "      <td>20200201231704</td>\n",
       "      <td>126.573477</td>\n",
       "      <td>33.256884</td>\n",
       "      <td>2020-02-01 23:17:04</td>\n",
       "      <td>8238</td>\n",
       "      <td>POINT (126.57348 33.25688)</td>\n",
       "    </tr>\n",
       "    <tr>\n",
       "      <th>3</th>\n",
       "      <td>46100018</td>\n",
       "      <td>20200215122018</td>\n",
       "      <td>126.546978</td>\n",
       "      <td>33.511985</td>\n",
       "      <td>2020-02-15 12:20:18</td>\n",
       "      <td>2708</td>\n",
       "      <td>POINT (126.54698 33.51199)</td>\n",
       "    </tr>\n",
       "    <tr>\n",
       "      <th>4</th>\n",
       "      <td>46100018</td>\n",
       "      <td>20200215133156</td>\n",
       "      <td>126.379015</td>\n",
       "      <td>33.475388</td>\n",
       "      <td>2020-02-15 13:31:56</td>\n",
       "      <td>3429</td>\n",
       "      <td>POINT (126.37901 33.47539)</td>\n",
       "    </tr>\n",
       "  </tbody>\n",
       "</table>\n",
       "</div>"
      ],
      "text/plain": [
       "        oid   collection_dt   longitude   latitude                 time  Diff  \\\n",
       "0  0c0000fd  20200201070634  126.470092  33.482483  2020-02-01 07:06:34  3768   \n",
       "1  0c0000fd  20200201222423  126.527728  33.500267  2020-02-01 22:24:23  2461   \n",
       "2  0c0000fd  20200201231704  126.573477  33.256884  2020-02-01 23:17:04  8238   \n",
       "3  46100018  20200215122018  126.546978  33.511985  2020-02-15 12:20:18  2708   \n",
       "4  46100018  20200215133156  126.379015  33.475388  2020-02-15 13:31:56  3429   \n",
       "\n",
       "                     geometry  \n",
       "0  POINT (126.47009 33.48248)  \n",
       "1  POINT (126.52773 33.50027)  \n",
       "2  POINT (126.57348 33.25688)  \n",
       "3  POINT (126.54698 33.51199)  \n",
       "4  POINT (126.37901 33.47539)  "
      ]
     },
     "execution_count": 20,
     "metadata": {},
     "output_type": "execute_result"
    }
   ],
   "source": [
    "from shapely.geometry import Point\n",
    "\n",
    "geometry = [Point(xy) for xy in zip(df['longitude'], df['latitude'])]\n",
    "gdf = gpd.GeoDataFrame(df, geometry=geometry, crs=\"EPSG:4326\")\n",
    "\n",
    "gdf.head()"
   ]
  },
  {
   "cell_type": "code",
   "execution_count": 21,
   "metadata": {},
   "outputs": [
    {
     "data": {
      "text/plain": [
       "<AxesSubplot:>"
      ]
     },
     "execution_count": 21,
     "metadata": {},
     "output_type": "execute_result"
    },
    {
     "data": {
      "image/png": "[encoded data removed]",
      "text/plain": [
       "<Figure size 640x480 with 1 Axes>"
      ]
     },
     "metadata": {},
     "output_type": "display_data"
    }
   ],
   "source": [
    "gdf.plot()"
   ]
  },
  {
   "cell_type": "code",
   "execution_count": 25,
   "metadata": {},
   "outputs": [
    {
     "data": {
      "text/plain": [
       "Index(['oid', 'longitude', 'latitude', 'Diff', 'geometry', 'Month', 'day',\n",
       "       'hour', 'time_of_day'],\n",
       "      dtype='object')"
      ]
     },
     "execution_count": 25,
     "metadata": {},
     "output_type": "execute_result"
    }
   ],
   "source": [
    "df_2021.columns"
   ]
  },
  {
   "cell_type": "code",
   "execution_count": 27,
   "metadata": {},
   "outputs": [
    {
     "name": "stderr",
     "output_type": "stream",
     "text": [
      "/home/dabs/.conda/envs/InHeon/lib/python3.7/site-packages/ipykernel_launcher.py:1: SettingWithCopyWarning: \n",
      "A value is trying to be set on a copy of a slice from a DataFrame.\n",
      "Try using .loc[row_indexer,col_indexer] = value instead\n",
      "\n",
      "See the caveats in the documentation: https://pandas.pydata.org/pandas-docs/stable/user_guide/indexing.html#returning-a-view-versus-a-copy\n",
      "  \"\"\"Entry point for launching an IPython kernel.\n",
      "/home/dabs/.conda/envs/InHeon/lib/python3.7/site-packages/ipykernel_launcher.py:2: SettingWithCopyWarning: \n",
      "A value is trying to be set on a copy of a slice from a DataFrame.\n",
      "Try using .loc[row_indexer,col_indexer] = value instead\n",
      "\n",
      "See the caveats in the documentation: https://pandas.pydata.org/pandas-docs/stable/user_guide/indexing.html#returning-a-view-versus-a-copy\n",
      "  \n",
      "/home/dabs/.conda/envs/InHeon/lib/python3.7/site-packages/ipykernel_launcher.py:3: SettingWithCopyWarning: \n",
      "A value is trying to be set on a copy of a slice from a DataFrame.\n",
      "Try using .loc[row_indexer,col_indexer] = value instead\n",
      "\n",
      "See the caveats in the documentation: https://pandas.pydata.org/pandas-docs/stable/user_guide/indexing.html#returning-a-view-versus-a-copy\n",
      "  This is separate from the ipykernel package so we can avoid doing imports until\n",
      "/home/dabs/.conda/envs/InHeon/lib/python3.7/site-packages/ipykernel_launcher.py:4: SettingWithCopyWarning: \n",
      "A value is trying to be set on a copy of a slice from a DataFrame.\n",
      "Try using .loc[row_indexer,col_indexer] = value instead\n",
      "\n",
      "See the caveats in the documentation: https://pandas.pydata.org/pandas-docs/stable/user_guide/indexing.html#returning-a-view-versus-a-copy\n",
      "  after removing the cwd from sys.path.\n"
     ]
    }
   ],
   "source": [
    "df['time'] = pd.to_datetime(df['time'])\n",
    "df['Month'] = df['time'].dt.month\n",
    "df['day'] = df['time'].dt.day\n",
    "df['hour'] = df['time'].dt.hour\n",
    "\n",
    "df.to_csv('./체류거점/체류거점_2020.csv')"
   ]
  },
  {
   "cell_type": "code",
   "execution_count": 29,
   "metadata": {},
   "outputs": [
    {
     "name": "stderr",
     "output_type": "stream",
     "text": [
      "/home/dabs/.conda/envs/InHeon/lib/python3.7/site-packages/ipykernel_launcher.py:4: SettingWithCopyWarning: \n",
      "A value is trying to be set on a copy of a slice from a DataFrame.\n",
      "Try using .loc[row_indexer,col_indexer] = value instead\n",
      "\n",
      "See the caveats in the documentation: https://pandas.pydata.org/pandas-docs/stable/user_guide/indexing.html#returning-a-view-versus-a-copy\n",
      "  after removing the cwd from sys.path.\n"
     ]
    },
    {
     "data": {
      "text/plain": [
       "1    164596\n",
       "0     82073\n",
       "2     71514\n",
       "Name: time_of_day, dtype: int64"
      ]
     },
     "execution_count": 29,
     "metadata": {},
     "output_type": "execute_result"
    }
   ],
   "source": [
    "bins = [0, 12, 18, 24] # 구간 경계 설정\n",
    "labels = [0, 1, 2] # 0: \"Morning\", 1: \"Afternoon\", 2: \"Evening\"\n",
    "\n",
    "df['time_of_day'] = pd.cut(df['hour'], bins=bins, labels=labels, right=False)\n",
    "df['time_of_day'].value_counts()"
   ]
  },
  {
   "cell_type": "code",
   "execution_count": 33,
   "metadata": {},
   "outputs": [
    {
     "name": "stderr",
     "output_type": "stream",
     "text": [
      "/home/dabs/.conda/envs/InHeon/lib/python3.7/site-packages/pandas/core/frame.py:4913: SettingWithCopyWarning: \n",
      "A value is trying to be set on a copy of a slice from a DataFrame\n",
      "\n",
      "See the caveats in the documentation: https://pandas.pydata.org/pandas-docs/stable/user_guide/indexing.html#returning-a-view-versus-a-copy\n",
      "  errors=errors,\n"
     ]
    },
    {
     "data": {
      "text/html": [
       "<div>\n",
       "<style scoped>\n",
       "    .dataframe tbody tr th:only-of-type {\n",
       "        vertical-align: middle;\n",
       "    }\n",
       "\n",
       "    .dataframe tbody tr th {\n",
       "        vertical-align: top;\n",
       "    }\n",
       "\n",
       "    .dataframe thead th {\n",
       "        text-align: right;\n",
       "    }\n",
       "</style>\n",
       "<table border=\"1\" class=\"dataframe\">\n",
       "  <thead>\n",
       "    <tr style=\"text-align: right;\">\n",
       "      <th></th>\n",
       "      <th>oid</th>\n",
       "      <th>longitude</th>\n",
       "      <th>latitude</th>\n",
       "      <th>Diff</th>\n",
       "      <th>geometry</th>\n",
       "      <th>Month</th>\n",
       "      <th>day</th>\n",
       "      <th>hour</th>\n",
       "      <th>time_of_day</th>\n",
       "    </tr>\n",
       "  </thead>\n",
       "  <tbody>\n",
       "    <tr>\n",
       "      <th>0</th>\n",
       "      <td>0c0000fd</td>\n",
       "      <td>126.470092</td>\n",
       "      <td>33.482483</td>\n",
       "      <td>3768</td>\n",
       "      <td>POINT (126.47009 33.48248)</td>\n",
       "      <td>2</td>\n",
       "      <td>1</td>\n",
       "      <td>7</td>\n",
       "      <td>0</td>\n",
       "    </tr>\n",
       "    <tr>\n",
       "      <th>1</th>\n",
       "      <td>0c0000fd</td>\n",
       "      <td>126.527728</td>\n",
       "      <td>33.500267</td>\n",
       "      <td>2461</td>\n",
       "      <td>POINT (126.52773 33.50027)</td>\n",
       "      <td>2</td>\n",
       "      <td>1</td>\n",
       "      <td>22</td>\n",
       "      <td>2</td>\n",
       "    </tr>\n",
       "    <tr>\n",
       "      <th>2</th>\n",
       "      <td>0c0000fd</td>\n",
       "      <td>126.573477</td>\n",
       "      <td>33.256884</td>\n",
       "      <td>8238</td>\n",
       "      <td>POINT (126.57348 33.25688)</td>\n",
       "      <td>2</td>\n",
       "      <td>1</td>\n",
       "      <td>23</td>\n",
       "      <td>2</td>\n",
       "    </tr>\n",
       "    <tr>\n",
       "      <th>3</th>\n",
       "      <td>46100018</td>\n",
       "      <td>126.546978</td>\n",
       "      <td>33.511985</td>\n",
       "      <td>2708</td>\n",
       "      <td>POINT (126.54698 33.51199)</td>\n",
       "      <td>2</td>\n",
       "      <td>15</td>\n",
       "      <td>12</td>\n",
       "      <td>1</td>\n",
       "    </tr>\n",
       "    <tr>\n",
       "      <th>4</th>\n",
       "      <td>46100018</td>\n",
       "      <td>126.379015</td>\n",
       "      <td>33.475388</td>\n",
       "      <td>3429</td>\n",
       "      <td>POINT (126.37901 33.47539)</td>\n",
       "      <td>2</td>\n",
       "      <td>15</td>\n",
       "      <td>13</td>\n",
       "      <td>1</td>\n",
       "    </tr>\n",
       "  </tbody>\n",
       "</table>\n",
       "</div>"
      ],
      "text/plain": [
       "        oid   longitude   latitude  Diff                    geometry  Month  \\\n",
       "0  0c0000fd  126.470092  33.482483  3768  POINT (126.47009 33.48248)      2   \n",
       "1  0c0000fd  126.527728  33.500267  2461  POINT (126.52773 33.50027)      2   \n",
       "2  0c0000fd  126.573477  33.256884  8238  POINT (126.57348 33.25688)      2   \n",
       "3  46100018  126.546978  33.511985  2708  POINT (126.54698 33.51199)      2   \n",
       "4  46100018  126.379015  33.475388  3429  POINT (126.37901 33.47539)      2   \n",
       "\n",
       "   day  hour time_of_day  \n",
       "0    1     7           0  \n",
       "1    1    22           2  \n",
       "2    1    23           2  \n",
       "3   15    12           1  \n",
       "4   15    13           1  "
      ]
     },
     "execution_count": 33,
     "metadata": {},
     "output_type": "execute_result"
    }
   ],
   "source": [
    "df.drop(['collection_dt', 'time'], axis=1, inplace=True)\n",
    "df.head()"
   ]
  },
  {
   "cell_type": "code",
   "execution_count": 38,
   "metadata": {},
   "outputs": [],
   "source": [
    "df.to_csv('./체류거점/체류거점_2020.csv', index=False)"
   ]
  },
  {
   "cell_type": "code",
   "execution_count": null,
   "metadata": {},
   "outputs": [],
   "source": []
  }
 ],
 "metadata": {
  "kernelspec": {
   "display_name": "InHeon",
   "language": "python",
   "name": "python3"
  },
  "language_info": {
   "codemirror_mode": {
    "name": "ipython",
    "version": 3
   },
   "file_extension": ".py",
   "mimetype": "text/x-python",
   "name": "python",
   "nbconvert_exporter": "python",
   "pygments_lexer": "ipython3",
   "version": "3.7.16"
  }
 },
 "nbformat": 4,
 "nbformat_minor": 2
}
