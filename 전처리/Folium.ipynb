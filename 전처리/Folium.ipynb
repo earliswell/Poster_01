{
 "cells": [
  {
   "cell_type": "code",
   "execution_count": null,
   "metadata": {},
   "outputs": [],
   "source": [
    "# import library\n",
    "import glob\n",
    "import os\n",
    "\n",
    "import pandas as pd\n",
    "import numpy as np\n",
    "import matplotlib.pyplot as plt\n",
    "import seaborn as sns\n",
    "\n",
    "%matplotlib inline"
   ]
  },
  {
   "cell_type": "code",
   "execution_count": null,
   "metadata": {},
   "outputs": [],
   "source": [
    "file_directory = './데이터/*csv'\n",
    "all_files = glob.glob(file_directory)\n",
    "all_files"
   ]
  },
  {
   "cell_type": "code",
   "execution_count": null,
   "metadata": {},
   "outputs": [],
   "source": [
    "df = pd.read_csv('./데이터/체류거점_2021_01.csv')\n",
    "df"
   ]
  },
  {
   "cell_type": "markdown",
   "metadata": {},
   "source": [
    "### 지도 시각화\n",
    "- [Folium 공식문서](https://python-visualization.github.io/folium/latest/)"
   ]
  },
  {
   "cell_type": "code",
   "execution_count": null,
   "metadata": {},
   "outputs": [],
   "source": [
    "import folium"
   ]
  },
  {
   "cell_type": "code",
   "execution_count": null,
   "metadata": {},
   "outputs": [],
   "source": [
    "df.columns"
   ]
  },
  {
   "cell_type": "code",
   "execution_count": null,
   "metadata": {},
   "outputs": [],
   "source": [
    "df.loc[0, 'longitude']"
   ]
  },
  {
   "cell_type": "code",
   "execution_count": null,
   "metadata": {},
   "outputs": [],
   "source": [
    "# 지도 띄우기\n",
    "map_folium = folium.Map(location=[df.loc[0, 'latitude'], df.loc[0, 'longitude']], zoom_start=17)\n",
    "map_folium"
   ]
  },
  {
   "cell_type": "markdown",
   "metadata": {},
   "source": [
    "### 마커 생성\n",
    "- Marker(): location 속성으로 지정한 위치에 마커를 생성\n",
    "- Popup(): 마커를 클릭했을 때 표시할 문자열을 설정\n",
    "- add_to(): 작성된 마커를 지도에 추가"
   ]
  },
  {
   "cell_type": "code",
   "execution_count": null,
   "metadata": {},
   "outputs": [],
   "source": [
    "map_folium = folium.Map(location=[df.loc[0, 'latitude'], df.loc[0, 'longitude']], zoom_start=17)\n",
    "popup = folium.Popup('렌트카 위치', max_width=200)\n",
    "folium.Marker(location=[df.loc[0, 'latitude'], df.loc[0, 'longitude']], popup=popup).add_to(map_folium)\n",
    "map_folium"
   ]
  },
  {
   "cell_type": "code",
   "execution_count": null,
   "metadata": {},
   "outputs": [],
   "source": [
    "map_folium = folium.Map(location=[df.loc[0, 'latitude'], df.loc[0, 'longitude']], zoom_start=17)\n",
    "popup = folium.Popup('렌트카 위치', max_width=200)\n",
    "folium.CircleMarker(location=[df.loc[0, 'latitude'], df.loc[0, 'longitude']], popup=popup,\n",
    "              radius=10, color='red', fill_color='#EC4074').add_to(map_folium)\n",
    "map_folium"
   ]
  },
  {
   "cell_type": "code",
   "execution_count": null,
   "metadata": {},
   "outputs": [],
   "source": [
    "df.columns"
   ]
  },
  {
   "cell_type": "code",
   "execution_count": null,
   "metadata": {},
   "outputs": [],
   "source": [
    "df"
   ]
  },
  {
   "cell_type": "code",
   "execution_count": null,
   "metadata": {},
   "outputs": [],
   "source": [
    "latitude, longitude = df['latitude'].mean(), df['longitude'].mean()\n",
    "\n",
    "map = folium.Map(location=[latitude, longitude], zoom_start=11)\n",
    "map"
   ]
  },
  {
   "cell_type": "code",
   "execution_count": null,
   "metadata": {},
   "outputs": [],
   "source": [
    "# iterrows(): 데이터프레임의 행 한줄 한줄을 반복문을 통하여 읽어올 수 있도록 iterable한 객체로 만든다. -> 인덱스와 데이터 2개를 리턴함\n",
    "for _, row in df.iterrows():\n",
    "    popup = folium.Popup(row['oid'], max_width=200)\n",
    "    folium.CircleMarker(location=[row['latitude'], row['longitude']], popup=popup,\n",
    "                        ).add_to(map)\n",
    "map"
   ]
  },
  {
   "cell_type": "code",
   "execution_count": 37,
   "metadata": {},
   "outputs": [
    {
     "data": {
      "text/plain": [
       "'./데이터/folium_map.html'"
      ]
     },
     "execution_count": 37,
     "metadata": {},
     "output_type": "execute_result"
    }
   ],
   "source": [
    "import random\n",
    "center_lat = df['latitude'].mean()\n",
    "center_lon = df['longitude'].mean()\n",
    "map = folium.Map(location=[center_lat, center_lon], zoom_start=12)\n",
    "\n",
    "# # 고유한 oid에 따라 색상 생성\n",
    "# unique_oids = df['oid'].unique()\n",
    "# colors = ['#%06X' % random.randint(0, 0xFFFFFF) for _ in range(len(unique_oids))]\n",
    "# oid_color_dict = {oid: colors[i] for i, oid in enumerate(unique_oids)}\n",
    "\n",
    "# 데이터를 기반으로 마커 추가\n",
    "for _, row in df.iterrows():\n",
    "    folium.Marker(\n",
    "        location=[row['latitude'], row['longitude']],\n",
    "        popup=f\"OID: {row['oid']}<br>Time: {row['time']}<br>Diff: {row['Diff']}\",\n",
    "        # icon=folium.Icon(color=\"white\", icon_color=oid_color_dict[row['oid']])\n",
    "    ).add_to(map)\n",
    "    \n",
    "# 지도를 HTML 파일로 저장\n",
    "map_file_path = \"./데이터/folium_map.html\"\n",
    "map.save(map_file_path)\n",
    "\n",
    "map_file_path"
   ]
  },
  {
   "cell_type": "code",
   "execution_count": null,
   "metadata": {},
   "outputs": [],
   "source": []
  }
 ],
 "metadata": {
  "kernelspec": {
   "display_name": "InHeon",
   "language": "python",
   "name": "python3"
  },
  "language_info": {
   "codemirror_mode": {
    "name": "ipython",
    "version": 3
   },
   "file_extension": ".py",
   "mimetype": "text/x-python",
   "name": "python",
   "nbconvert_exporter": "python",
   "pygments_lexer": "ipython3",
   "version": "3.7.16"
  }
 },
 "nbformat": 4,
 "nbformat_minor": 2
}
